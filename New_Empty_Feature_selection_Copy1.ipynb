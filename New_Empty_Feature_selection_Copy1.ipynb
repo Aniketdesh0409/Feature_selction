{
 "cells": [
  {
   "cell_type": "markdown",
   "id": "72fba26e",
   "metadata": {
    "id": "72fba26e"
   },
   "source": [
    "# Feature selection"
   ]
  },
  {
   "cell_type": "code",
   "execution_count": 1,
   "id": "2a5d9679",
   "metadata": {
    "id": "2a5d9679"
   },
   "outputs": [
    {
     "data": {
      "text/plain": [
       "'\\nf1 f2 f3 f4 ..........f50\\n15 relevant features u have to select from total 50 features\\nFeature selection is used to do this task.\\nbcz it will select only relevant features\\nwhereas irrelevant , noisy features will not be selected.\\n'"
      ]
     },
     "execution_count": 1,
     "metadata": {},
     "output_type": "execute_result"
    }
   ],
   "source": [
    "\"\"\"\n",
    "f1 f2 f3 f4 ..........f50\n",
    "15 relevant features u have to select from total 50 features\n",
    "Feature selection is used to do this task.\n",
    "bcz it will select only relevant features\n",
    "whereas irrelevant , noisy features will not be selected.\n",
    "\"\"\""
   ]
  },
  {
   "cell_type": "code",
   "execution_count": 2,
   "id": "3a0b8743",
   "metadata": {
    "id": "3a0b8743"
   },
   "outputs": [],
   "source": [
    "# feature selection\n",
    "# feature selection we select most important features\n",
    "# Supervised learning algorithms\n",
    "    # filter method\n",
    "    # wrapper method\n",
    "    # feature imporatance method"
   ]
  },
  {
   "cell_type": "markdown",
   "id": "281f7912",
   "metadata": {
    "id": "281f7912"
   },
   "source": [
    "### https://scikit-learn.org/stable/modules/feature_selection.html#univariate-feature-selection"
   ]
  },
  {
   "cell_type": "code",
   "execution_count": 3,
   "id": "0b576b65",
   "metadata": {
    "id": "0b576b65"
   },
   "outputs": [],
   "source": [
    "# why feature selection is imporatant?\n",
    "# Ans: https://towardsdatascience.com/feature-selection-with-pandas-e3690ad8504b"
   ]
  },
  {
   "cell_type": "code",
   "execution_count": 4,
   "id": "6729ac90",
   "metadata": {
    "executionInfo": {
     "elapsed": 1742,
     "status": "ok",
     "timestamp": 1738248877893,
     "user": {
      "displayName": "Yameen Hakim",
      "userId": "10103794539266934668"
     },
     "user_tz": -330
    },
    "id": "6729ac90"
   },
   "outputs": [],
   "source": [
    "import numpy as np\n",
    "import pandas as pd\n",
    "import matplotlib.pyplot as plt\n",
    "import seaborn as sns\n",
    "import warnings\n",
    "warnings.filterwarnings('ignore')"
   ]
  },
  {
   "cell_type": "code",
   "execution_count": 5,
   "id": "94cdfb75",
   "metadata": {
    "executionInfo": {
     "elapsed": 562,
     "status": "ok",
     "timestamp": 1738248921801,
     "user": {
      "displayName": "Yameen Hakim",
      "userId": "10103794539266934668"
     },
     "user_tz": -330
    },
    "id": "94cdfb75"
   },
   "outputs": [],
   "source": [
    "df = pd.read_csv('mobile_data.csv.csv')"
   ]
  },
  {
   "cell_type": "code",
   "execution_count": 6,
   "id": "80f380cd",
   "metadata": {
    "colab": {
     "base_uri": "https://localhost:8080/",
     "height": 161
    },
    "executionInfo": {
     "elapsed": 494,
     "status": "ok",
     "timestamp": 1738248930464,
     "user": {
      "displayName": "Yameen Hakim",
      "userId": "10103794539266934668"
     },
     "user_tz": -330
    },
    "id": "80f380cd",
    "outputId": "ac1329d5-4d7c-4ac4-a9a8-978fd5806d40"
   },
   "outputs": [
    {
     "data": {
      "text/html": [
       "<div>\n",
       "<style scoped>\n",
       "    .dataframe tbody tr th:only-of-type {\n",
       "        vertical-align: middle;\n",
       "    }\n",
       "\n",
       "    .dataframe tbody tr th {\n",
       "        vertical-align: top;\n",
       "    }\n",
       "\n",
       "    .dataframe thead th {\n",
       "        text-align: right;\n",
       "    }\n",
       "</style>\n",
       "<table border=\"1\" class=\"dataframe\">\n",
       "  <thead>\n",
       "    <tr style=\"text-align: right;\">\n",
       "      <th></th>\n",
       "      <th>battery_power</th>\n",
       "      <th>blue</th>\n",
       "      <th>clock_speed</th>\n",
       "      <th>dual_sim</th>\n",
       "      <th>fc</th>\n",
       "      <th>four_g</th>\n",
       "      <th>int_memory</th>\n",
       "      <th>m_dep</th>\n",
       "      <th>mobile_wt</th>\n",
       "      <th>n_cores</th>\n",
       "      <th>...</th>\n",
       "      <th>px_height</th>\n",
       "      <th>px_width</th>\n",
       "      <th>ram</th>\n",
       "      <th>sc_h</th>\n",
       "      <th>sc_w</th>\n",
       "      <th>talk_time</th>\n",
       "      <th>three_g</th>\n",
       "      <th>touch_screen</th>\n",
       "      <th>wifi</th>\n",
       "      <th>price_range</th>\n",
       "    </tr>\n",
       "  </thead>\n",
       "  <tbody>\n",
       "    <tr>\n",
       "      <th>0</th>\n",
       "      <td>842</td>\n",
       "      <td>0</td>\n",
       "      <td>2.2</td>\n",
       "      <td>0</td>\n",
       "      <td>1</td>\n",
       "      <td>0</td>\n",
       "      <td>7</td>\n",
       "      <td>0.6</td>\n",
       "      <td>188</td>\n",
       "      <td>2</td>\n",
       "      <td>...</td>\n",
       "      <td>20</td>\n",
       "      <td>756</td>\n",
       "      <td>2549</td>\n",
       "      <td>9</td>\n",
       "      <td>7</td>\n",
       "      <td>19</td>\n",
       "      <td>0</td>\n",
       "      <td>0</td>\n",
       "      <td>1</td>\n",
       "      <td>1</td>\n",
       "    </tr>\n",
       "    <tr>\n",
       "      <th>1</th>\n",
       "      <td>1021</td>\n",
       "      <td>1</td>\n",
       "      <td>0.5</td>\n",
       "      <td>1</td>\n",
       "      <td>0</td>\n",
       "      <td>1</td>\n",
       "      <td>53</td>\n",
       "      <td>0.7</td>\n",
       "      <td>136</td>\n",
       "      <td>3</td>\n",
       "      <td>...</td>\n",
       "      <td>905</td>\n",
       "      <td>1988</td>\n",
       "      <td>2631</td>\n",
       "      <td>17</td>\n",
       "      <td>3</td>\n",
       "      <td>7</td>\n",
       "      <td>1</td>\n",
       "      <td>1</td>\n",
       "      <td>0</td>\n",
       "      <td>2</td>\n",
       "    </tr>\n",
       "  </tbody>\n",
       "</table>\n",
       "<p>2 rows × 21 columns</p>\n",
       "</div>"
      ],
      "text/plain": [
       "   battery_power  blue  clock_speed  dual_sim  fc  four_g  int_memory  m_dep  \\\n",
       "0            842     0          2.2         0   1       0           7    0.6   \n",
       "1           1021     1          0.5         1   0       1          53    0.7   \n",
       "\n",
       "   mobile_wt  n_cores  ...  px_height  px_width   ram  sc_h  sc_w  talk_time  \\\n",
       "0        188        2  ...         20       756  2549     9     7         19   \n",
       "1        136        3  ...        905      1988  2631    17     3          7   \n",
       "\n",
       "   three_g  touch_screen  wifi  price_range  \n",
       "0        0             0     1            1  \n",
       "1        1             1     0            2  \n",
       "\n",
       "[2 rows x 21 columns]"
      ]
     },
     "execution_count": 6,
     "metadata": {},
     "output_type": "execute_result"
    }
   ],
   "source": [
    "df.head(2)"
   ]
  },
  {
   "cell_type": "code",
   "execution_count": 7,
   "id": "3becbaae",
   "metadata": {
    "colab": {
     "base_uri": "https://localhost:8080/"
    },
    "executionInfo": {
     "elapsed": 15,
     "status": "ok",
     "timestamp": 1738249038174,
     "user": {
      "displayName": "Yameen Hakim",
      "userId": "10103794539266934668"
     },
     "user_tz": -330
    },
    "id": "3becbaae",
    "outputId": "a63c2916-3d5e-4ee6-b184-2e7c508edf0d",
    "scrolled": true
   },
   "outputs": [
    {
     "data": {
      "text/plain": [
       "(2000, 21)"
      ]
     },
     "execution_count": 7,
     "metadata": {},
     "output_type": "execute_result"
    }
   ],
   "source": [
    "df.shape"
   ]
  },
  {
   "cell_type": "code",
   "execution_count": 8,
   "id": "c6fcc204",
   "metadata": {
    "colab": {
     "base_uri": "https://localhost:8080/"
    },
    "executionInfo": {
     "elapsed": 439,
     "status": "ok",
     "timestamp": 1738249056310,
     "user": {
      "displayName": "Yameen Hakim",
      "userId": "10103794539266934668"
     },
     "user_tz": -330
    },
    "id": "c6fcc204",
    "outputId": "023ac19a-2669-4449-8159-6688ccfa549f"
   },
   "outputs": [
    {
     "data": {
      "text/plain": [
       "array([1, 2, 3, 0], dtype=int64)"
      ]
     },
     "execution_count": 8,
     "metadata": {},
     "output_type": "execute_result"
    }
   ],
   "source": [
    "# target\n",
    "df.price_range.unique()"
   ]
  },
  {
   "cell_type": "code",
   "execution_count": 9,
   "id": "7c143006",
   "metadata": {
    "colab": {
     "base_uri": "https://localhost:8080/"
    },
    "executionInfo": {
     "elapsed": 502,
     "status": "ok",
     "timestamp": 1738249085217,
     "user": {
      "displayName": "Yameen Hakim",
      "userId": "10103794539266934668"
     },
     "user_tz": -330
    },
    "id": "7c143006",
    "outputId": "c3eb6607-4d82-471b-eca6-eb5cd6575bef"
   },
   "outputs": [
    {
     "name": "stdout",
     "output_type": "stream",
     "text": [
      "<class 'pandas.core.frame.DataFrame'>\n",
      "RangeIndex: 2000 entries, 0 to 1999\n",
      "Data columns (total 21 columns):\n",
      " #   Column         Non-Null Count  Dtype  \n",
      "---  ------         --------------  -----  \n",
      " 0   battery_power  2000 non-null   int64  \n",
      " 1   blue           2000 non-null   int64  \n",
      " 2   clock_speed    2000 non-null   float64\n",
      " 3   dual_sim       2000 non-null   int64  \n",
      " 4   fc             2000 non-null   int64  \n",
      " 5   four_g         2000 non-null   int64  \n",
      " 6   int_memory     2000 non-null   int64  \n",
      " 7   m_dep          2000 non-null   float64\n",
      " 8   mobile_wt      2000 non-null   int64  \n",
      " 9   n_cores        2000 non-null   int64  \n",
      " 10  pc             2000 non-null   int64  \n",
      " 11  px_height      2000 non-null   int64  \n",
      " 12  px_width       2000 non-null   int64  \n",
      " 13  ram            2000 non-null   int64  \n",
      " 14  sc_h           2000 non-null   int64  \n",
      " 15  sc_w           2000 non-null   int64  \n",
      " 16  talk_time      2000 non-null   int64  \n",
      " 17  three_g        2000 non-null   int64  \n",
      " 18  touch_screen   2000 non-null   int64  \n",
      " 19  wifi           2000 non-null   int64  \n",
      " 20  price_range    2000 non-null   int64  \n",
      "dtypes: float64(2), int64(19)\n",
      "memory usage: 328.2 KB\n"
     ]
    }
   ],
   "source": [
    "df.info()"
   ]
  },
  {
   "cell_type": "code",
   "execution_count": 10,
   "id": "afe6870c",
   "metadata": {
    "colab": {
     "base_uri": "https://localhost:8080/"
    },
    "executionInfo": {
     "elapsed": 543,
     "status": "ok",
     "timestamp": 1738249157316,
     "user": {
      "displayName": "Yameen Hakim",
      "userId": "10103794539266934668"
     },
     "user_tz": -330
    },
    "id": "afe6870c",
    "outputId": "7a3f8e21-fff8-43f2-d915-cb115e5afd9f"
   },
   "outputs": [
    {
     "data": {
      "text/plain": [
       "Index(['battery_power', 'blue', 'clock_speed', 'dual_sim', 'fc', 'four_g',\n",
       "       'int_memory', 'm_dep', 'mobile_wt', 'n_cores', 'pc', 'px_height',\n",
       "       'px_width', 'ram', 'sc_h', 'sc_w', 'talk_time', 'three_g',\n",
       "       'touch_screen', 'wifi', 'price_range'],\n",
       "      dtype='object')"
      ]
     },
     "execution_count": 10,
     "metadata": {},
     "output_type": "execute_result"
    }
   ],
   "source": [
    "df.columns"
   ]
  },
  {
   "cell_type": "code",
   "execution_count": 11,
   "id": "1Y0x_MXiuXmr",
   "metadata": {
    "colab": {
     "base_uri": "https://localhost:8080/"
    },
    "executionInfo": {
     "elapsed": 11,
     "status": "ok",
     "timestamp": 1738249188821,
     "user": {
      "displayName": "Yameen Hakim",
      "userId": "10103794539266934668"
     },
     "user_tz": -330
    },
    "id": "1Y0x_MXiuXmr",
    "outputId": "62c882ac-1695-4239-ab6b-27ab6c88c393"
   },
   "outputs": [
    {
     "data": {
      "text/plain": [
       "0"
      ]
     },
     "execution_count": 11,
     "metadata": {},
     "output_type": "execute_result"
    }
   ],
   "source": [
    "# check duplicate records\n",
    "df.duplicated().sum()"
   ]
  },
  {
   "cell_type": "code",
   "execution_count": 12,
   "id": "b150bfbc",
   "metadata": {
    "executionInfo": {
     "elapsed": 6,
     "status": "ok",
     "timestamp": 1738249219339,
     "user": {
      "displayName": "Yameen Hakim",
      "userId": "10103794539266934668"
     },
     "user_tz": -330
    },
    "id": "b150bfbc"
   },
   "outputs": [],
   "source": [
    "# Create input + output segment\n",
    "x = df.iloc[:,:-1]  #skip price_range column"
   ]
  },
  {
   "cell_type": "code",
   "execution_count": 13,
   "id": "b43f3dcb",
   "metadata": {
    "colab": {
     "base_uri": "https://localhost:8080/",
     "height": 226
    },
    "executionInfo": {
     "elapsed": 15,
     "status": "ok",
     "timestamp": 1738249220323,
     "user": {
      "displayName": "Yameen Hakim",
      "userId": "10103794539266934668"
     },
     "user_tz": -330
    },
    "id": "b43f3dcb",
    "outputId": "1d4b25d1-12c7-46c1-d595-74622e90d67e"
   },
   "outputs": [
    {
     "data": {
      "text/html": [
       "<div>\n",
       "<style scoped>\n",
       "    .dataframe tbody tr th:only-of-type {\n",
       "        vertical-align: middle;\n",
       "    }\n",
       "\n",
       "    .dataframe tbody tr th {\n",
       "        vertical-align: top;\n",
       "    }\n",
       "\n",
       "    .dataframe thead th {\n",
       "        text-align: right;\n",
       "    }\n",
       "</style>\n",
       "<table border=\"1\" class=\"dataframe\">\n",
       "  <thead>\n",
       "    <tr style=\"text-align: right;\">\n",
       "      <th></th>\n",
       "      <th>battery_power</th>\n",
       "      <th>blue</th>\n",
       "      <th>clock_speed</th>\n",
       "      <th>dual_sim</th>\n",
       "      <th>fc</th>\n",
       "      <th>four_g</th>\n",
       "      <th>int_memory</th>\n",
       "      <th>m_dep</th>\n",
       "      <th>mobile_wt</th>\n",
       "      <th>n_cores</th>\n",
       "      <th>pc</th>\n",
       "      <th>px_height</th>\n",
       "      <th>px_width</th>\n",
       "      <th>ram</th>\n",
       "      <th>sc_h</th>\n",
       "      <th>sc_w</th>\n",
       "      <th>talk_time</th>\n",
       "      <th>three_g</th>\n",
       "      <th>touch_screen</th>\n",
       "      <th>wifi</th>\n",
       "    </tr>\n",
       "  </thead>\n",
       "  <tbody>\n",
       "    <tr>\n",
       "      <th>0</th>\n",
       "      <td>842</td>\n",
       "      <td>0</td>\n",
       "      <td>2.2</td>\n",
       "      <td>0</td>\n",
       "      <td>1</td>\n",
       "      <td>0</td>\n",
       "      <td>7</td>\n",
       "      <td>0.6</td>\n",
       "      <td>188</td>\n",
       "      <td>2</td>\n",
       "      <td>2</td>\n",
       "      <td>20</td>\n",
       "      <td>756</td>\n",
       "      <td>2549</td>\n",
       "      <td>9</td>\n",
       "      <td>7</td>\n",
       "      <td>19</td>\n",
       "      <td>0</td>\n",
       "      <td>0</td>\n",
       "      <td>1</td>\n",
       "    </tr>\n",
       "    <tr>\n",
       "      <th>1</th>\n",
       "      <td>1021</td>\n",
       "      <td>1</td>\n",
       "      <td>0.5</td>\n",
       "      <td>1</td>\n",
       "      <td>0</td>\n",
       "      <td>1</td>\n",
       "      <td>53</td>\n",
       "      <td>0.7</td>\n",
       "      <td>136</td>\n",
       "      <td>3</td>\n",
       "      <td>6</td>\n",
       "      <td>905</td>\n",
       "      <td>1988</td>\n",
       "      <td>2631</td>\n",
       "      <td>17</td>\n",
       "      <td>3</td>\n",
       "      <td>7</td>\n",
       "      <td>1</td>\n",
       "      <td>1</td>\n",
       "      <td>0</td>\n",
       "    </tr>\n",
       "    <tr>\n",
       "      <th>2</th>\n",
       "      <td>563</td>\n",
       "      <td>1</td>\n",
       "      <td>0.5</td>\n",
       "      <td>1</td>\n",
       "      <td>2</td>\n",
       "      <td>1</td>\n",
       "      <td>41</td>\n",
       "      <td>0.9</td>\n",
       "      <td>145</td>\n",
       "      <td>5</td>\n",
       "      <td>6</td>\n",
       "      <td>1263</td>\n",
       "      <td>1716</td>\n",
       "      <td>2603</td>\n",
       "      <td>11</td>\n",
       "      <td>2</td>\n",
       "      <td>9</td>\n",
       "      <td>1</td>\n",
       "      <td>1</td>\n",
       "      <td>0</td>\n",
       "    </tr>\n",
       "    <tr>\n",
       "      <th>3</th>\n",
       "      <td>615</td>\n",
       "      <td>1</td>\n",
       "      <td>2.5</td>\n",
       "      <td>0</td>\n",
       "      <td>0</td>\n",
       "      <td>0</td>\n",
       "      <td>10</td>\n",
       "      <td>0.8</td>\n",
       "      <td>131</td>\n",
       "      <td>6</td>\n",
       "      <td>9</td>\n",
       "      <td>1216</td>\n",
       "      <td>1786</td>\n",
       "      <td>2769</td>\n",
       "      <td>16</td>\n",
       "      <td>8</td>\n",
       "      <td>11</td>\n",
       "      <td>1</td>\n",
       "      <td>0</td>\n",
       "      <td>0</td>\n",
       "    </tr>\n",
       "    <tr>\n",
       "      <th>4</th>\n",
       "      <td>1821</td>\n",
       "      <td>1</td>\n",
       "      <td>1.2</td>\n",
       "      <td>0</td>\n",
       "      <td>13</td>\n",
       "      <td>1</td>\n",
       "      <td>44</td>\n",
       "      <td>0.6</td>\n",
       "      <td>141</td>\n",
       "      <td>2</td>\n",
       "      <td>14</td>\n",
       "      <td>1208</td>\n",
       "      <td>1212</td>\n",
       "      <td>1411</td>\n",
       "      <td>8</td>\n",
       "      <td>2</td>\n",
       "      <td>15</td>\n",
       "      <td>1</td>\n",
       "      <td>1</td>\n",
       "      <td>0</td>\n",
       "    </tr>\n",
       "  </tbody>\n",
       "</table>\n",
       "</div>"
      ],
      "text/plain": [
       "   battery_power  blue  clock_speed  dual_sim  fc  four_g  int_memory  m_dep  \\\n",
       "0            842     0          2.2         0   1       0           7    0.6   \n",
       "1           1021     1          0.5         1   0       1          53    0.7   \n",
       "2            563     1          0.5         1   2       1          41    0.9   \n",
       "3            615     1          2.5         0   0       0          10    0.8   \n",
       "4           1821     1          1.2         0  13       1          44    0.6   \n",
       "\n",
       "   mobile_wt  n_cores  pc  px_height  px_width   ram  sc_h  sc_w  talk_time  \\\n",
       "0        188        2   2         20       756  2549     9     7         19   \n",
       "1        136        3   6        905      1988  2631    17     3          7   \n",
       "2        145        5   6       1263      1716  2603    11     2          9   \n",
       "3        131        6   9       1216      1786  2769    16     8         11   \n",
       "4        141        2  14       1208      1212  1411     8     2         15   \n",
       "\n",
       "   three_g  touch_screen  wifi  \n",
       "0        0             0     1  \n",
       "1        1             1     0  \n",
       "2        1             1     0  \n",
       "3        1             0     0  \n",
       "4        1             1     0  "
      ]
     },
     "execution_count": 13,
     "metadata": {},
     "output_type": "execute_result"
    }
   ],
   "source": [
    "x.head()"
   ]
  },
  {
   "cell_type": "code",
   "execution_count": 14,
   "id": "1ee165f3",
   "metadata": {
    "colab": {
     "base_uri": "https://localhost:8080/",
     "height": 178
    },
    "executionInfo": {
     "elapsed": 515,
     "status": "ok",
     "timestamp": 1738249234746,
     "user": {
      "displayName": "Yameen Hakim",
      "userId": "10103794539266934668"
     },
     "user_tz": -330
    },
    "id": "1ee165f3",
    "outputId": "ed3cd22b-d8d8-47a7-8e1f-67504edf3fe8"
   },
   "outputs": [
    {
     "data": {
      "text/plain": [
       "0    1\n",
       "1    2\n",
       "2    2\n",
       "Name: price_range, dtype: int64"
      ]
     },
     "execution_count": 14,
     "metadata": {},
     "output_type": "execute_result"
    }
   ],
   "source": [
    "y = df['price_range']\n",
    "y[:3]"
   ]
  },
  {
   "cell_type": "code",
   "execution_count": 15,
   "id": "cb65dca2",
   "metadata": {
    "colab": {
     "base_uri": "https://localhost:8080/",
     "height": 240
    },
    "executionInfo": {
     "elapsed": 534,
     "status": "ok",
     "timestamp": 1738249244729,
     "user": {
      "displayName": "Yameen Hakim",
      "userId": "10103794539266934668"
     },
     "user_tz": -330
    },
    "id": "cb65dca2",
    "outputId": "1a327469-d541-4873-ac61-38d8935b9b7b"
   },
   "outputs": [
    {
     "data": {
      "text/plain": [
       "0    500\n",
       "1    500\n",
       "2    500\n",
       "3    500\n",
       "Name: price_range, dtype: int64"
      ]
     },
     "execution_count": 15,
     "metadata": {},
     "output_type": "execute_result"
    }
   ],
   "source": [
    "# check data is balanced or not\n",
    "y.value_counts()"
   ]
  },
  {
   "cell_type": "markdown",
   "id": "1e30ff39",
   "metadata": {
    "id": "1e30ff39"
   },
   "source": [
    "## Create a ML model to predict price range of a mobile phone on the basis of input features"
   ]
  },
  {
   "cell_type": "markdown",
   "id": "Yy8dy3i220xQ",
   "metadata": {
    "id": "Yy8dy3i220xQ"
   },
   "source": [
    "https://machinelearningmastery.com/feature-selection-with-real-and-categorical-data/"
   ]
  },
  {
   "cell_type": "markdown",
   "id": "76df4ce9",
   "metadata": {
    "id": "76df4ce9"
   },
   "source": [
    "# information gain"
   ]
  },
  {
   "cell_type": "code",
   "execution_count": 16,
   "id": "4cbc3f24",
   "metadata": {
    "executionInfo": {
     "elapsed": 1230,
     "status": "ok",
     "timestamp": 1738249333607,
     "user": {
      "displayName": "Yameen Hakim",
      "userId": "10103794539266934668"
     },
     "user_tz": -330
    },
    "id": "4cbc3f24"
   },
   "outputs": [],
   "source": [
    "#from sklearn.feature_selection import mutual_info_regression  # for regression problem\n",
    "from sklearn.feature_selection import mutual_info_classif"
   ]
  },
  {
   "cell_type": "code",
   "execution_count": 17,
   "id": "81dc33c7",
   "metadata": {
    "executionInfo": {
     "elapsed": 588,
     "status": "ok",
     "timestamp": 1738249353627,
     "user": {
      "displayName": "Yameen Hakim",
      "userId": "10103794539266934668"
     },
     "user_tz": -330
    },
    "id": "81dc33c7"
   },
   "outputs": [],
   "source": [
    "# supply input and output\n",
    "score = mutual_info_classif(x,y)\n",
    "# model will return mutual_info score"
   ]
  },
  {
   "cell_type": "code",
   "execution_count": 18,
   "id": "a8991235",
   "metadata": {
    "colab": {
     "base_uri": "https://localhost:8080/"
    },
    "executionInfo": {
     "elapsed": 430,
     "status": "ok",
     "timestamp": 1738249355367,
     "user": {
      "displayName": "Yameen Hakim",
      "userId": "10103794539266934668"
     },
     "user_tz": -330
    },
    "id": "a8991235",
    "outputId": "ef97631d-f74a-4a2d-953e-9ae5223406b4"
   },
   "outputs": [
    {
     "data": {
      "text/plain": [
       "array([3.08923478e-02, 0.00000000e+00, 0.00000000e+00, 3.27954186e-04,\n",
       "       7.34795414e-03, 4.98830155e-03, 1.78272670e-02, 5.81225925e-03,\n",
       "       4.22944504e-03, 0.00000000e+00, 0.00000000e+00, 3.26267064e-02,\n",
       "       2.20610355e-02, 8.46551948e-01, 0.00000000e+00, 3.46773962e-02,\n",
       "       5.12453598e-03, 0.00000000e+00, 0.00000000e+00, 0.00000000e+00])"
      ]
     },
     "execution_count": 18,
     "metadata": {},
     "output_type": "execute_result"
    }
   ],
   "source": [
    "score"
   ]
  },
  {
   "cell_type": "code",
   "execution_count": 19,
   "id": "3814a8d1",
   "metadata": {
    "colab": {
     "base_uri": "https://localhost:8080/"
    },
    "executionInfo": {
     "elapsed": 686,
     "status": "ok",
     "timestamp": 1738249391250,
     "user": {
      "displayName": "Yameen Hakim",
      "userId": "10103794539266934668"
     },
     "user_tz": -330
    },
    "id": "3814a8d1",
    "outputId": "8a1b5de3-c3cd-4302-d20e-215d1e1bfc52"
   },
   "outputs": [
    {
     "data": {
      "text/plain": [
       "20"
      ]
     },
     "execution_count": 19,
     "metadata": {},
     "output_type": "execute_result"
    }
   ],
   "source": [
    "len(score) # Number of features means len of x.columns (inputs)"
   ]
  },
  {
   "cell_type": "code",
   "execution_count": 20,
   "id": "667ba760",
   "metadata": {
    "id": "667ba760"
   },
   "outputs": [
    {
     "data": {
      "text/plain": [
       "array([3.08923478e-02, 0.00000000e+00, 0.00000000e+00, 3.27954186e-04,\n",
       "       7.34795414e-03, 4.98830155e-03, 1.78272670e-02, 5.81225925e-03,\n",
       "       4.22944504e-03, 0.00000000e+00, 0.00000000e+00, 3.26267064e-02,\n",
       "       2.20610355e-02, 8.46551948e-01, 0.00000000e+00, 3.46773962e-02,\n",
       "       5.12453598e-03, 0.00000000e+00, 0.00000000e+00, 0.00000000e+00])"
      ]
     },
     "execution_count": 20,
     "metadata": {},
     "output_type": "execute_result"
    }
   ],
   "source": [
    "score # score is  a mutual_info_score for 20 Features"
   ]
  },
  {
   "cell_type": "code",
   "execution_count": 21,
   "id": "4b5b4c3b",
   "metadata": {
    "executionInfo": {
     "elapsed": 5,
     "status": "ok",
     "timestamp": 1738249408261,
     "user": {
      "displayName": "Yameen Hakim",
      "userId": "10103794539266934668"
     },
     "user_tz": -330
    },
    "id": "4b5b4c3b"
   },
   "outputs": [],
   "source": [
    "imp_fea = pd.DataFrame(score,columns=['scores'])"
   ]
  },
  {
   "cell_type": "code",
   "execution_count": 22,
   "id": "fe17c7b7",
   "metadata": {
    "colab": {
     "base_uri": "https://localhost:8080/",
     "height": 676
    },
    "executionInfo": {
     "elapsed": 492,
     "status": "ok",
     "timestamp": 1738249410551,
     "user": {
      "displayName": "Yameen Hakim",
      "userId": "10103794539266934668"
     },
     "user_tz": -330
    },
    "id": "fe17c7b7",
    "outputId": "5d17086c-2a35-47d9-9c0a-9b54bceb4e11"
   },
   "outputs": [
    {
     "data": {
      "text/html": [
       "<div>\n",
       "<style scoped>\n",
       "    .dataframe tbody tr th:only-of-type {\n",
       "        vertical-align: middle;\n",
       "    }\n",
       "\n",
       "    .dataframe tbody tr th {\n",
       "        vertical-align: top;\n",
       "    }\n",
       "\n",
       "    .dataframe thead th {\n",
       "        text-align: right;\n",
       "    }\n",
       "</style>\n",
       "<table border=\"1\" class=\"dataframe\">\n",
       "  <thead>\n",
       "    <tr style=\"text-align: right;\">\n",
       "      <th></th>\n",
       "      <th>scores</th>\n",
       "    </tr>\n",
       "  </thead>\n",
       "  <tbody>\n",
       "    <tr>\n",
       "      <th>0</th>\n",
       "      <td>0.030892</td>\n",
       "    </tr>\n",
       "    <tr>\n",
       "      <th>1</th>\n",
       "      <td>0.000000</td>\n",
       "    </tr>\n",
       "    <tr>\n",
       "      <th>2</th>\n",
       "      <td>0.000000</td>\n",
       "    </tr>\n",
       "    <tr>\n",
       "      <th>3</th>\n",
       "      <td>0.000328</td>\n",
       "    </tr>\n",
       "    <tr>\n",
       "      <th>4</th>\n",
       "      <td>0.007348</td>\n",
       "    </tr>\n",
       "    <tr>\n",
       "      <th>5</th>\n",
       "      <td>0.004988</td>\n",
       "    </tr>\n",
       "    <tr>\n",
       "      <th>6</th>\n",
       "      <td>0.017827</td>\n",
       "    </tr>\n",
       "    <tr>\n",
       "      <th>7</th>\n",
       "      <td>0.005812</td>\n",
       "    </tr>\n",
       "    <tr>\n",
       "      <th>8</th>\n",
       "      <td>0.004229</td>\n",
       "    </tr>\n",
       "    <tr>\n",
       "      <th>9</th>\n",
       "      <td>0.000000</td>\n",
       "    </tr>\n",
       "    <tr>\n",
       "      <th>10</th>\n",
       "      <td>0.000000</td>\n",
       "    </tr>\n",
       "    <tr>\n",
       "      <th>11</th>\n",
       "      <td>0.032627</td>\n",
       "    </tr>\n",
       "    <tr>\n",
       "      <th>12</th>\n",
       "      <td>0.022061</td>\n",
       "    </tr>\n",
       "    <tr>\n",
       "      <th>13</th>\n",
       "      <td>0.846552</td>\n",
       "    </tr>\n",
       "    <tr>\n",
       "      <th>14</th>\n",
       "      <td>0.000000</td>\n",
       "    </tr>\n",
       "    <tr>\n",
       "      <th>15</th>\n",
       "      <td>0.034677</td>\n",
       "    </tr>\n",
       "    <tr>\n",
       "      <th>16</th>\n",
       "      <td>0.005125</td>\n",
       "    </tr>\n",
       "    <tr>\n",
       "      <th>17</th>\n",
       "      <td>0.000000</td>\n",
       "    </tr>\n",
       "    <tr>\n",
       "      <th>18</th>\n",
       "      <td>0.000000</td>\n",
       "    </tr>\n",
       "    <tr>\n",
       "      <th>19</th>\n",
       "      <td>0.000000</td>\n",
       "    </tr>\n",
       "  </tbody>\n",
       "</table>\n",
       "</div>"
      ],
      "text/plain": [
       "      scores\n",
       "0   0.030892\n",
       "1   0.000000\n",
       "2   0.000000\n",
       "3   0.000328\n",
       "4   0.007348\n",
       "5   0.004988\n",
       "6   0.017827\n",
       "7   0.005812\n",
       "8   0.004229\n",
       "9   0.000000\n",
       "10  0.000000\n",
       "11  0.032627\n",
       "12  0.022061\n",
       "13  0.846552\n",
       "14  0.000000\n",
       "15  0.034677\n",
       "16  0.005125\n",
       "17  0.000000\n",
       "18  0.000000\n",
       "19  0.000000"
      ]
     },
     "execution_count": 22,
     "metadata": {},
     "output_type": "execute_result"
    }
   ],
   "source": [
    "imp_fea"
   ]
  },
  {
   "cell_type": "code",
   "execution_count": 23,
   "id": "cec18256",
   "metadata": {
    "colab": {
     "base_uri": "https://localhost:8080/",
     "height": 707
    },
    "executionInfo": {
     "elapsed": 464,
     "status": "ok",
     "timestamp": 1738249440410,
     "user": {
      "displayName": "Yameen Hakim",
      "userId": "10103794539266934668"
     },
     "user_tz": -330
    },
    "id": "cec18256",
    "outputId": "d1b6bd0f-c0a5-43f0-eb8e-3ac31a49da0c"
   },
   "outputs": [
    {
     "data": {
      "text/html": [
       "<div>\n",
       "<style scoped>\n",
       "    .dataframe tbody tr th:only-of-type {\n",
       "        vertical-align: middle;\n",
       "    }\n",
       "\n",
       "    .dataframe tbody tr th {\n",
       "        vertical-align: top;\n",
       "    }\n",
       "\n",
       "    .dataframe thead th {\n",
       "        text-align: right;\n",
       "    }\n",
       "</style>\n",
       "<table border=\"1\" class=\"dataframe\">\n",
       "  <thead>\n",
       "    <tr style=\"text-align: right;\">\n",
       "      <th></th>\n",
       "      <th>features</th>\n",
       "    </tr>\n",
       "  </thead>\n",
       "  <tbody>\n",
       "    <tr>\n",
       "      <th>0</th>\n",
       "      <td>battery_power</td>\n",
       "    </tr>\n",
       "    <tr>\n",
       "      <th>1</th>\n",
       "      <td>blue</td>\n",
       "    </tr>\n",
       "    <tr>\n",
       "      <th>2</th>\n",
       "      <td>clock_speed</td>\n",
       "    </tr>\n",
       "    <tr>\n",
       "      <th>3</th>\n",
       "      <td>dual_sim</td>\n",
       "    </tr>\n",
       "    <tr>\n",
       "      <th>4</th>\n",
       "      <td>fc</td>\n",
       "    </tr>\n",
       "    <tr>\n",
       "      <th>5</th>\n",
       "      <td>four_g</td>\n",
       "    </tr>\n",
       "    <tr>\n",
       "      <th>6</th>\n",
       "      <td>int_memory</td>\n",
       "    </tr>\n",
       "    <tr>\n",
       "      <th>7</th>\n",
       "      <td>m_dep</td>\n",
       "    </tr>\n",
       "    <tr>\n",
       "      <th>8</th>\n",
       "      <td>mobile_wt</td>\n",
       "    </tr>\n",
       "    <tr>\n",
       "      <th>9</th>\n",
       "      <td>n_cores</td>\n",
       "    </tr>\n",
       "    <tr>\n",
       "      <th>10</th>\n",
       "      <td>pc</td>\n",
       "    </tr>\n",
       "    <tr>\n",
       "      <th>11</th>\n",
       "      <td>px_height</td>\n",
       "    </tr>\n",
       "    <tr>\n",
       "      <th>12</th>\n",
       "      <td>px_width</td>\n",
       "    </tr>\n",
       "    <tr>\n",
       "      <th>13</th>\n",
       "      <td>ram</td>\n",
       "    </tr>\n",
       "    <tr>\n",
       "      <th>14</th>\n",
       "      <td>sc_h</td>\n",
       "    </tr>\n",
       "    <tr>\n",
       "      <th>15</th>\n",
       "      <td>sc_w</td>\n",
       "    </tr>\n",
       "    <tr>\n",
       "      <th>16</th>\n",
       "      <td>talk_time</td>\n",
       "    </tr>\n",
       "    <tr>\n",
       "      <th>17</th>\n",
       "      <td>three_g</td>\n",
       "    </tr>\n",
       "    <tr>\n",
       "      <th>18</th>\n",
       "      <td>touch_screen</td>\n",
       "    </tr>\n",
       "    <tr>\n",
       "      <th>19</th>\n",
       "      <td>wifi</td>\n",
       "    </tr>\n",
       "    <tr>\n",
       "      <th>20</th>\n",
       "      <td>price_range</td>\n",
       "    </tr>\n",
       "  </tbody>\n",
       "</table>\n",
       "</div>"
      ],
      "text/plain": [
       "         features\n",
       "0   battery_power\n",
       "1            blue\n",
       "2     clock_speed\n",
       "3        dual_sim\n",
       "4              fc\n",
       "5          four_g\n",
       "6      int_memory\n",
       "7           m_dep\n",
       "8       mobile_wt\n",
       "9         n_cores\n",
       "10             pc\n",
       "11      px_height\n",
       "12       px_width\n",
       "13            ram\n",
       "14           sc_h\n",
       "15           sc_w\n",
       "16      talk_time\n",
       "17        three_g\n",
       "18   touch_screen\n",
       "19           wifi\n",
       "20    price_range"
      ]
     },
     "execution_count": 23,
     "metadata": {},
     "output_type": "execute_result"
    }
   ],
   "source": [
    "df_columns = pd.DataFrame(df.columns,columns=['features'])\n",
    "df_columns"
   ]
  },
  {
   "cell_type": "code",
   "execution_count": 24,
   "id": "35c437c5",
   "metadata": {
    "executionInfo": {
     "elapsed": 493,
     "status": "ok",
     "timestamp": 1738249475367,
     "user": {
      "displayName": "Yameen Hakim",
      "userId": "10103794539266934668"
     },
     "user_tz": -330
    },
    "id": "35c437c5"
   },
   "outputs": [],
   "source": [
    "new_feat = pd.concat([imp_fea,df_columns],axis = 1)"
   ]
  },
  {
   "cell_type": "code",
   "execution_count": 25,
   "id": "114bd354",
   "metadata": {
    "colab": {
     "base_uri": "https://localhost:8080/",
     "height": 707
    },
    "executionInfo": {
     "elapsed": 16,
     "status": "ok",
     "timestamp": 1738249476078,
     "user": {
      "displayName": "Yameen Hakim",
      "userId": "10103794539266934668"
     },
     "user_tz": -330
    },
    "id": "114bd354",
    "outputId": "89a1a695-0913-485b-a83a-6d3b32222e2c"
   },
   "outputs": [
    {
     "data": {
      "text/html": [
       "<div>\n",
       "<style scoped>\n",
       "    .dataframe tbody tr th:only-of-type {\n",
       "        vertical-align: middle;\n",
       "    }\n",
       "\n",
       "    .dataframe tbody tr th {\n",
       "        vertical-align: top;\n",
       "    }\n",
       "\n",
       "    .dataframe thead th {\n",
       "        text-align: right;\n",
       "    }\n",
       "</style>\n",
       "<table border=\"1\" class=\"dataframe\">\n",
       "  <thead>\n",
       "    <tr style=\"text-align: right;\">\n",
       "      <th></th>\n",
       "      <th>scores</th>\n",
       "      <th>features</th>\n",
       "    </tr>\n",
       "  </thead>\n",
       "  <tbody>\n",
       "    <tr>\n",
       "      <th>0</th>\n",
       "      <td>0.030892</td>\n",
       "      <td>battery_power</td>\n",
       "    </tr>\n",
       "    <tr>\n",
       "      <th>1</th>\n",
       "      <td>0.000000</td>\n",
       "      <td>blue</td>\n",
       "    </tr>\n",
       "    <tr>\n",
       "      <th>2</th>\n",
       "      <td>0.000000</td>\n",
       "      <td>clock_speed</td>\n",
       "    </tr>\n",
       "    <tr>\n",
       "      <th>3</th>\n",
       "      <td>0.000328</td>\n",
       "      <td>dual_sim</td>\n",
       "    </tr>\n",
       "    <tr>\n",
       "      <th>4</th>\n",
       "      <td>0.007348</td>\n",
       "      <td>fc</td>\n",
       "    </tr>\n",
       "    <tr>\n",
       "      <th>5</th>\n",
       "      <td>0.004988</td>\n",
       "      <td>four_g</td>\n",
       "    </tr>\n",
       "    <tr>\n",
       "      <th>6</th>\n",
       "      <td>0.017827</td>\n",
       "      <td>int_memory</td>\n",
       "    </tr>\n",
       "    <tr>\n",
       "      <th>7</th>\n",
       "      <td>0.005812</td>\n",
       "      <td>m_dep</td>\n",
       "    </tr>\n",
       "    <tr>\n",
       "      <th>8</th>\n",
       "      <td>0.004229</td>\n",
       "      <td>mobile_wt</td>\n",
       "    </tr>\n",
       "    <tr>\n",
       "      <th>9</th>\n",
       "      <td>0.000000</td>\n",
       "      <td>n_cores</td>\n",
       "    </tr>\n",
       "    <tr>\n",
       "      <th>10</th>\n",
       "      <td>0.000000</td>\n",
       "      <td>pc</td>\n",
       "    </tr>\n",
       "    <tr>\n",
       "      <th>11</th>\n",
       "      <td>0.032627</td>\n",
       "      <td>px_height</td>\n",
       "    </tr>\n",
       "    <tr>\n",
       "      <th>12</th>\n",
       "      <td>0.022061</td>\n",
       "      <td>px_width</td>\n",
       "    </tr>\n",
       "    <tr>\n",
       "      <th>13</th>\n",
       "      <td>0.846552</td>\n",
       "      <td>ram</td>\n",
       "    </tr>\n",
       "    <tr>\n",
       "      <th>14</th>\n",
       "      <td>0.000000</td>\n",
       "      <td>sc_h</td>\n",
       "    </tr>\n",
       "    <tr>\n",
       "      <th>15</th>\n",
       "      <td>0.034677</td>\n",
       "      <td>sc_w</td>\n",
       "    </tr>\n",
       "    <tr>\n",
       "      <th>16</th>\n",
       "      <td>0.005125</td>\n",
       "      <td>talk_time</td>\n",
       "    </tr>\n",
       "    <tr>\n",
       "      <th>17</th>\n",
       "      <td>0.000000</td>\n",
       "      <td>three_g</td>\n",
       "    </tr>\n",
       "    <tr>\n",
       "      <th>18</th>\n",
       "      <td>0.000000</td>\n",
       "      <td>touch_screen</td>\n",
       "    </tr>\n",
       "    <tr>\n",
       "      <th>19</th>\n",
       "      <td>0.000000</td>\n",
       "      <td>wifi</td>\n",
       "    </tr>\n",
       "    <tr>\n",
       "      <th>20</th>\n",
       "      <td>NaN</td>\n",
       "      <td>price_range</td>\n",
       "    </tr>\n",
       "  </tbody>\n",
       "</table>\n",
       "</div>"
      ],
      "text/plain": [
       "      scores       features\n",
       "0   0.030892  battery_power\n",
       "1   0.000000           blue\n",
       "2   0.000000    clock_speed\n",
       "3   0.000328       dual_sim\n",
       "4   0.007348             fc\n",
       "5   0.004988         four_g\n",
       "6   0.017827     int_memory\n",
       "7   0.005812          m_dep\n",
       "8   0.004229      mobile_wt\n",
       "9   0.000000        n_cores\n",
       "10  0.000000             pc\n",
       "11  0.032627      px_height\n",
       "12  0.022061       px_width\n",
       "13  0.846552            ram\n",
       "14  0.000000           sc_h\n",
       "15  0.034677           sc_w\n",
       "16  0.005125      talk_time\n",
       "17  0.000000        three_g\n",
       "18  0.000000   touch_screen\n",
       "19  0.000000           wifi\n",
       "20       NaN    price_range"
      ]
     },
     "execution_count": 25,
     "metadata": {},
     "output_type": "execute_result"
    }
   ],
   "source": [
    "new_feat"
   ]
  },
  {
   "cell_type": "code",
   "execution_count": 26,
   "id": "e025e739",
   "metadata": {
    "executionInfo": {
     "elapsed": 439,
     "status": "ok",
     "timestamp": 1738249544346,
     "user": {
      "displayName": "Yameen Hakim",
      "userId": "10103794539266934668"
     },
     "user_tz": -330
    },
    "id": "e025e739",
    "scrolled": false
   },
   "outputs": [],
   "source": [
    "# lets select only 10 columns outof 20 using nlargest and\n",
    "#specify column name to sort\n",
    "new_feat = new_feat.nlargest(10,'scores')"
   ]
  },
  {
   "cell_type": "code",
   "execution_count": 27,
   "id": "a69e8f24",
   "metadata": {
    "colab": {
     "base_uri": "https://localhost:8080/",
     "height": 362
    },
    "executionInfo": {
     "elapsed": 10,
     "status": "ok",
     "timestamp": 1738249545892,
     "user": {
      "displayName": "Yameen Hakim",
      "userId": "10103794539266934668"
     },
     "user_tz": -330
    },
    "id": "a69e8f24",
    "outputId": "228ca326-4e3d-4bd5-d4c1-5c1e9f4e92ec"
   },
   "outputs": [
    {
     "data": {
      "text/html": [
       "<div>\n",
       "<style scoped>\n",
       "    .dataframe tbody tr th:only-of-type {\n",
       "        vertical-align: middle;\n",
       "    }\n",
       "\n",
       "    .dataframe tbody tr th {\n",
       "        vertical-align: top;\n",
       "    }\n",
       "\n",
       "    .dataframe thead th {\n",
       "        text-align: right;\n",
       "    }\n",
       "</style>\n",
       "<table border=\"1\" class=\"dataframe\">\n",
       "  <thead>\n",
       "    <tr style=\"text-align: right;\">\n",
       "      <th></th>\n",
       "      <th>scores</th>\n",
       "      <th>features</th>\n",
       "    </tr>\n",
       "  </thead>\n",
       "  <tbody>\n",
       "    <tr>\n",
       "      <th>13</th>\n",
       "      <td>0.846552</td>\n",
       "      <td>ram</td>\n",
       "    </tr>\n",
       "    <tr>\n",
       "      <th>15</th>\n",
       "      <td>0.034677</td>\n",
       "      <td>sc_w</td>\n",
       "    </tr>\n",
       "    <tr>\n",
       "      <th>11</th>\n",
       "      <td>0.032627</td>\n",
       "      <td>px_height</td>\n",
       "    </tr>\n",
       "    <tr>\n",
       "      <th>0</th>\n",
       "      <td>0.030892</td>\n",
       "      <td>battery_power</td>\n",
       "    </tr>\n",
       "    <tr>\n",
       "      <th>12</th>\n",
       "      <td>0.022061</td>\n",
       "      <td>px_width</td>\n",
       "    </tr>\n",
       "    <tr>\n",
       "      <th>6</th>\n",
       "      <td>0.017827</td>\n",
       "      <td>int_memory</td>\n",
       "    </tr>\n",
       "    <tr>\n",
       "      <th>4</th>\n",
       "      <td>0.007348</td>\n",
       "      <td>fc</td>\n",
       "    </tr>\n",
       "    <tr>\n",
       "      <th>7</th>\n",
       "      <td>0.005812</td>\n",
       "      <td>m_dep</td>\n",
       "    </tr>\n",
       "    <tr>\n",
       "      <th>16</th>\n",
       "      <td>0.005125</td>\n",
       "      <td>talk_time</td>\n",
       "    </tr>\n",
       "    <tr>\n",
       "      <th>5</th>\n",
       "      <td>0.004988</td>\n",
       "      <td>four_g</td>\n",
       "    </tr>\n",
       "  </tbody>\n",
       "</table>\n",
       "</div>"
      ],
      "text/plain": [
       "      scores       features\n",
       "13  0.846552            ram\n",
       "15  0.034677           sc_w\n",
       "11  0.032627      px_height\n",
       "0   0.030892  battery_power\n",
       "12  0.022061       px_width\n",
       "6   0.017827     int_memory\n",
       "4   0.007348             fc\n",
       "7   0.005812          m_dep\n",
       "16  0.005125      talk_time\n",
       "5   0.004988         four_g"
      ]
     },
     "execution_count": 27,
     "metadata": {},
     "output_type": "execute_result"
    }
   ],
   "source": [
    "new_feat"
   ]
  },
  {
   "cell_type": "code",
   "execution_count": 28,
   "id": "563ab7ed",
   "metadata": {
    "colab": {
     "base_uri": "https://localhost:8080/",
     "height": 448
    },
    "executionInfo": {
     "elapsed": 1051,
     "status": "ok",
     "timestamp": 1738249702652,
     "user": {
      "displayName": "Yameen Hakim",
      "userId": "10103794539266934668"
     },
     "user_tz": -330
    },
    "id": "563ab7ed",
    "outputId": "1047281f-f85d-4b6c-e5e6-ae1f76f7f773"
   },
   "outputs": [
    {
     "data": {
      "text/plain": [
       "<Axes: ylabel='features'>"
      ]
     },
     "execution_count": 28,
     "metadata": {},
     "output_type": "execute_result"
    },
    {
     "data": {
      "image/png": "[encoded data removed]",
      "text/plain": [
       "<Figure size 432x288 with 1 Axes>"
      ]
     },
     "metadata": {
      "needs_background": "light"
     },
     "output_type": "display_data"
    }
   ],
   "source": [
    "new_feat.plot(kind='barh',x='features',y='scores')"
   ]
  },
  {
   "cell_type": "markdown",
   "id": "3b907cc1",
   "metadata": {
    "id": "3b907cc1"
   },
   "source": [
    "# SelectKBest"
   ]
  },
  {
   "cell_type": "code",
   "execution_count": 29,
   "id": "3dbd6481",
   "metadata": {
    "executionInfo": {
     "elapsed": 9,
     "status": "ok",
     "timestamp": 1738249816750,
     "user": {
      "displayName": "Yameen Hakim",
      "userId": "10103794539266934668"
     },
     "user_tz": -330
    },
    "id": "3dbd6481"
   },
   "outputs": [],
   "source": [
    "from sklearn.feature_selection import SelectKBest\n",
    "#from sklearn.feature_selection import f_classif\n",
    "from sklearn.feature_selection import chi2"
   ]
  },
  {
   "cell_type": "code",
   "execution_count": 30,
   "id": "39QHkEd_yVep",
   "metadata": {
    "executionInfo": {
     "elapsed": 702,
     "status": "ok",
     "timestamp": 1738249824727,
     "user": {
      "displayName": "Yameen Hakim",
      "userId": "10103794539266934668"
     },
     "user_tz": -330
    },
    "id": "39QHkEd_yVep"
   },
   "outputs": [],
   "source": [
    "SelectKBest?"
   ]
  },
  {
   "cell_type": "code",
   "execution_count": 31,
   "id": "a9f3b1d7",
   "metadata": {
    "colab": {
     "base_uri": "https://localhost:8080/"
    },
    "executionInfo": {
     "elapsed": 12,
     "status": "ok",
     "timestamp": 1738249858695,
     "user": {
      "displayName": "Yameen Hakim",
      "userId": "10103794539266934668"
     },
     "user_tz": -330
    },
    "id": "a9f3b1d7",
    "outputId": "975ae25e-d759-4ed0-f066-9d2f8f2f71b2"
   },
   "outputs": [
    {
     "data": {
      "text/plain": [
       "(2000, 20)"
      ]
     },
     "execution_count": 31,
     "metadata": {},
     "output_type": "execute_result"
    }
   ],
   "source": [
    "x.shape"
   ]
  },
  {
   "cell_type": "code",
   "execution_count": 32,
   "id": "b57f5b0f",
   "metadata": {
    "executionInfo": {
     "elapsed": 531,
     "status": "ok",
     "timestamp": 1738249919698,
     "user": {
      "displayName": "Yameen Hakim",
      "userId": "10103794539266934668"
     },
     "user_tz": -330
    },
    "id": "b57f5b0f"
   },
   "outputs": [],
   "source": [
    "#SelectKBest(score_function,k).fit_transform(input,output)\n",
    "X_new = SelectKBest(chi2, k=10).fit_transform(x, y)"
   ]
  },
  {
   "cell_type": "code",
   "execution_count": 33,
   "id": "00aed9bc",
   "metadata": {
    "colab": {
     "base_uri": "https://localhost:8080/"
    },
    "executionInfo": {
     "elapsed": 653,
     "status": "ok",
     "timestamp": 1738249922961,
     "user": {
      "displayName": "Yameen Hakim",
      "userId": "10103794539266934668"
     },
     "user_tz": -330
    },
    "id": "00aed9bc",
    "outputId": "99f97673-ef2a-442d-e6a5-1b2ae76215d6"
   },
   "outputs": [
    {
     "data": {
      "text/plain": [
       "(2000, 10)"
      ]
     },
     "execution_count": 33,
     "metadata": {},
     "output_type": "execute_result"
    }
   ],
   "source": [
    "X_new.shape"
   ]
  },
  {
   "cell_type": "code",
   "execution_count": 34,
   "id": "87d79fe7",
   "metadata": {
    "colab": {
     "base_uri": "https://localhost:8080/",
     "height": 423
    },
    "executionInfo": {
     "elapsed": 482,
     "status": "ok",
     "timestamp": 1738249941134,
     "user": {
      "displayName": "Yameen Hakim",
      "userId": "10103794539266934668"
     },
     "user_tz": -330
    },
    "id": "87d79fe7",
    "outputId": "4d5b0ac0-b64e-45db-f367-0f958db82427"
   },
   "outputs": [
    {
     "data": {
      "text/html": [
       "<div>\n",
       "<style scoped>\n",
       "    .dataframe tbody tr th:only-of-type {\n",
       "        vertical-align: middle;\n",
       "    }\n",
       "\n",
       "    .dataframe tbody tr th {\n",
       "        vertical-align: top;\n",
       "    }\n",
       "\n",
       "    .dataframe thead th {\n",
       "        text-align: right;\n",
       "    }\n",
       "</style>\n",
       "<table border=\"1\" class=\"dataframe\">\n",
       "  <thead>\n",
       "    <tr style=\"text-align: right;\">\n",
       "      <th></th>\n",
       "      <th>0</th>\n",
       "      <th>1</th>\n",
       "      <th>2</th>\n",
       "      <th>3</th>\n",
       "      <th>4</th>\n",
       "      <th>5</th>\n",
       "      <th>6</th>\n",
       "      <th>7</th>\n",
       "      <th>8</th>\n",
       "      <th>9</th>\n",
       "    </tr>\n",
       "  </thead>\n",
       "  <tbody>\n",
       "    <tr>\n",
       "      <th>0</th>\n",
       "      <td>842.0</td>\n",
       "      <td>1.0</td>\n",
       "      <td>7.0</td>\n",
       "      <td>188.0</td>\n",
       "      <td>20.0</td>\n",
       "      <td>756.0</td>\n",
       "      <td>2549.0</td>\n",
       "      <td>9.0</td>\n",
       "      <td>7.0</td>\n",
       "      <td>19.0</td>\n",
       "    </tr>\n",
       "    <tr>\n",
       "      <th>1</th>\n",
       "      <td>1021.0</td>\n",
       "      <td>0.0</td>\n",
       "      <td>53.0</td>\n",
       "      <td>136.0</td>\n",
       "      <td>905.0</td>\n",
       "      <td>1988.0</td>\n",
       "      <td>2631.0</td>\n",
       "      <td>17.0</td>\n",
       "      <td>3.0</td>\n",
       "      <td>7.0</td>\n",
       "    </tr>\n",
       "    <tr>\n",
       "      <th>2</th>\n",
       "      <td>563.0</td>\n",
       "      <td>2.0</td>\n",
       "      <td>41.0</td>\n",
       "      <td>145.0</td>\n",
       "      <td>1263.0</td>\n",
       "      <td>1716.0</td>\n",
       "      <td>2603.0</td>\n",
       "      <td>11.0</td>\n",
       "      <td>2.0</td>\n",
       "      <td>9.0</td>\n",
       "    </tr>\n",
       "    <tr>\n",
       "      <th>3</th>\n",
       "      <td>615.0</td>\n",
       "      <td>0.0</td>\n",
       "      <td>10.0</td>\n",
       "      <td>131.0</td>\n",
       "      <td>1216.0</td>\n",
       "      <td>1786.0</td>\n",
       "      <td>2769.0</td>\n",
       "      <td>16.0</td>\n",
       "      <td>8.0</td>\n",
       "      <td>11.0</td>\n",
       "    </tr>\n",
       "    <tr>\n",
       "      <th>4</th>\n",
       "      <td>1821.0</td>\n",
       "      <td>13.0</td>\n",
       "      <td>44.0</td>\n",
       "      <td>141.0</td>\n",
       "      <td>1208.0</td>\n",
       "      <td>1212.0</td>\n",
       "      <td>1411.0</td>\n",
       "      <td>8.0</td>\n",
       "      <td>2.0</td>\n",
       "      <td>15.0</td>\n",
       "    </tr>\n",
       "    <tr>\n",
       "      <th>...</th>\n",
       "      <td>...</td>\n",
       "      <td>...</td>\n",
       "      <td>...</td>\n",
       "      <td>...</td>\n",
       "      <td>...</td>\n",
       "      <td>...</td>\n",
       "      <td>...</td>\n",
       "      <td>...</td>\n",
       "      <td>...</td>\n",
       "      <td>...</td>\n",
       "    </tr>\n",
       "    <tr>\n",
       "      <th>1995</th>\n",
       "      <td>794.0</td>\n",
       "      <td>0.0</td>\n",
       "      <td>2.0</td>\n",
       "      <td>106.0</td>\n",
       "      <td>1222.0</td>\n",
       "      <td>1890.0</td>\n",
       "      <td>668.0</td>\n",
       "      <td>13.0</td>\n",
       "      <td>4.0</td>\n",
       "      <td>19.0</td>\n",
       "    </tr>\n",
       "    <tr>\n",
       "      <th>1996</th>\n",
       "      <td>1965.0</td>\n",
       "      <td>0.0</td>\n",
       "      <td>39.0</td>\n",
       "      <td>187.0</td>\n",
       "      <td>915.0</td>\n",
       "      <td>1965.0</td>\n",
       "      <td>2032.0</td>\n",
       "      <td>11.0</td>\n",
       "      <td>10.0</td>\n",
       "      <td>16.0</td>\n",
       "    </tr>\n",
       "    <tr>\n",
       "      <th>1997</th>\n",
       "      <td>1911.0</td>\n",
       "      <td>1.0</td>\n",
       "      <td>36.0</td>\n",
       "      <td>108.0</td>\n",
       "      <td>868.0</td>\n",
       "      <td>1632.0</td>\n",
       "      <td>3057.0</td>\n",
       "      <td>9.0</td>\n",
       "      <td>1.0</td>\n",
       "      <td>5.0</td>\n",
       "    </tr>\n",
       "    <tr>\n",
       "      <th>1998</th>\n",
       "      <td>1512.0</td>\n",
       "      <td>4.0</td>\n",
       "      <td>46.0</td>\n",
       "      <td>145.0</td>\n",
       "      <td>336.0</td>\n",
       "      <td>670.0</td>\n",
       "      <td>869.0</td>\n",
       "      <td>18.0</td>\n",
       "      <td>10.0</td>\n",
       "      <td>19.0</td>\n",
       "    </tr>\n",
       "    <tr>\n",
       "      <th>1999</th>\n",
       "      <td>510.0</td>\n",
       "      <td>5.0</td>\n",
       "      <td>45.0</td>\n",
       "      <td>168.0</td>\n",
       "      <td>483.0</td>\n",
       "      <td>754.0</td>\n",
       "      <td>3919.0</td>\n",
       "      <td>19.0</td>\n",
       "      <td>4.0</td>\n",
       "      <td>2.0</td>\n",
       "    </tr>\n",
       "  </tbody>\n",
       "</table>\n",
       "<p>2000 rows × 10 columns</p>\n",
       "</div>"
      ],
      "text/plain": [
       "           0     1     2      3       4       5       6     7     8     9\n",
       "0      842.0   1.0   7.0  188.0    20.0   756.0  2549.0   9.0   7.0  19.0\n",
       "1     1021.0   0.0  53.0  136.0   905.0  1988.0  2631.0  17.0   3.0   7.0\n",
       "2      563.0   2.0  41.0  145.0  1263.0  1716.0  2603.0  11.0   2.0   9.0\n",
       "3      615.0   0.0  10.0  131.0  1216.0  1786.0  2769.0  16.0   8.0  11.0\n",
       "4     1821.0  13.0  44.0  141.0  1208.0  1212.0  1411.0   8.0   2.0  15.0\n",
       "...      ...   ...   ...    ...     ...     ...     ...   ...   ...   ...\n",
       "1995   794.0   0.0   2.0  106.0  1222.0  1890.0   668.0  13.0   4.0  19.0\n",
       "1996  1965.0   0.0  39.0  187.0   915.0  1965.0  2032.0  11.0  10.0  16.0\n",
       "1997  1911.0   1.0  36.0  108.0   868.0  1632.0  3057.0   9.0   1.0   5.0\n",
       "1998  1512.0   4.0  46.0  145.0   336.0   670.0   869.0  18.0  10.0  19.0\n",
       "1999   510.0   5.0  45.0  168.0   483.0   754.0  3919.0  19.0   4.0   2.0\n",
       "\n",
       "[2000 rows x 10 columns]"
      ]
     },
     "execution_count": 34,
     "metadata": {},
     "output_type": "execute_result"
    }
   ],
   "source": [
    "pd.DataFrame(X_new)"
   ]
  },
  {
   "cell_type": "code",
   "execution_count": 35,
   "id": "44175a64",
   "metadata": {
    "executionInfo": {
     "elapsed": 746,
     "status": "ok",
     "timestamp": 1738250531319,
     "user": {
      "displayName": "Yameen Hakim",
      "userId": "10103794539266934668"
     },
     "user_tz": -330
    },
    "id": "44175a64"
   },
   "outputs": [],
   "source": [
    "feat_imp = SelectKBest(k = 10)\n",
    "#feat_imp = SelectKBest(k = 10,score_function='mutual_info_classif')"
   ]
  },
  {
   "cell_type": "code",
   "execution_count": 36,
   "id": "25885477",
   "metadata": {
    "colab": {
     "base_uri": "https://localhost:8080/",
     "height": 79
    },
    "executionInfo": {
     "elapsed": 1839,
     "status": "ok",
     "timestamp": 1738250534762,
     "user": {
      "displayName": "Yameen Hakim",
      "userId": "10103794539266934668"
     },
     "user_tz": -330
    },
    "id": "25885477",
    "outputId": "4c063790-142c-4e43-ba8e-d032e1989ed2"
   },
   "outputs": [
    {
     "data": {
      "text/plain": [
       "SelectKBest()"
      ]
     },
     "execution_count": 36,
     "metadata": {},
     "output_type": "execute_result"
    }
   ],
   "source": [
    "feat_imp.fit(x,y)"
   ]
  },
  {
   "cell_type": "code",
   "execution_count": 37,
   "id": "2e6ee4c6",
   "metadata": {
    "colab": {
     "base_uri": "https://localhost:8080/"
    },
    "executionInfo": {
     "elapsed": 740,
     "status": "ok",
     "timestamp": 1738250543408,
     "user": {
      "displayName": "Yameen Hakim",
      "userId": "10103794539266934668"
     },
     "user_tz": -330
    },
    "id": "2e6ee4c6",
    "outputId": "bd6e9fed-8d0d-4dce-ae59-3450117a6901"
   },
   "outputs": [
    {
     "data": {
      "text/plain": [
       "20"
      ]
     },
     "execution_count": 37,
     "metadata": {},
     "output_type": "execute_result"
    }
   ],
   "source": [
    "feat_imp.n_features_in_"
   ]
  },
  {
   "cell_type": "code",
   "execution_count": 38,
   "id": "6ca3b139",
   "metadata": {
    "colab": {
     "base_uri": "https://localhost:8080/"
    },
    "executionInfo": {
     "elapsed": 553,
     "status": "ok",
     "timestamp": 1738250548806,
     "user": {
      "displayName": "Yameen Hakim",
      "userId": "10103794539266934668"
     },
     "user_tz": -330
    },
    "id": "6ca3b139",
    "outputId": "b3e75459-587e-4f41-c046-188c5bae8646"
   },
   "outputs": [
    {
     "data": {
      "text/plain": [
       "array([3.15981575e+01, 4.76767709e-01, 4.93707801e-01, 4.28239286e-01,\n",
       "       7.72181960e-01, 1.05952453e+00, 2.92299608e+00, 1.50068244e+00,\n",
       "       3.59431819e+00, 2.62541515e+00, 8.25446358e-01, 1.94848418e+01,\n",
       "       2.26208825e+01, 3.52011082e+03, 2.22598374e+00, 1.67099983e+00,\n",
       "       1.62881131e+00, 4.57319750e-01, 1.29330223e+00, 2.84940470e-01])"
      ]
     },
     "execution_count": 38,
     "metadata": {},
     "output_type": "execute_result"
    }
   ],
   "source": [
    "feat_imp.scores_"
   ]
  },
  {
   "cell_type": "code",
   "execution_count": 39,
   "id": "b5b00f77",
   "metadata": {
    "executionInfo": {
     "elapsed": 717,
     "status": "ok",
     "timestamp": 1738250559276,
     "user": {
      "displayName": "Yameen Hakim",
      "userId": "10103794539266934668"
     },
     "user_tz": -330
    },
    "id": "b5b00f77"
   },
   "outputs": [],
   "source": [
    "df_imp = pd.DataFrame(feat_imp.scores_,columns=['scores'])"
   ]
  },
  {
   "cell_type": "code",
   "execution_count": 40,
   "id": "4d96968c",
   "metadata": {
    "executionInfo": {
     "elapsed": 10,
     "status": "ok",
     "timestamp": 1738250562275,
     "user": {
      "displayName": "Yameen Hakim",
      "userId": "10103794539266934668"
     },
     "user_tz": -330
    },
    "id": "4d96968c"
   },
   "outputs": [],
   "source": [
    "df1 = pd.concat([df_imp,df_columns],axis=1)"
   ]
  },
  {
   "cell_type": "code",
   "execution_count": 41,
   "id": "b493d2b3",
   "metadata": {
    "colab": {
     "base_uri": "https://localhost:8080/",
     "height": 707
    },
    "executionInfo": {
     "elapsed": 826,
     "status": "ok",
     "timestamp": 1738250567139,
     "user": {
      "displayName": "Yameen Hakim",
      "userId": "10103794539266934668"
     },
     "user_tz": -330
    },
    "id": "b493d2b3",
    "outputId": "34afc9cf-6c5e-4681-8c6a-866b50927cee"
   },
   "outputs": [
    {
     "data": {
      "text/html": [
       "<div>\n",
       "<style scoped>\n",
       "    .dataframe tbody tr th:only-of-type {\n",
       "        vertical-align: middle;\n",
       "    }\n",
       "\n",
       "    .dataframe tbody tr th {\n",
       "        vertical-align: top;\n",
       "    }\n",
       "\n",
       "    .dataframe thead th {\n",
       "        text-align: right;\n",
       "    }\n",
       "</style>\n",
       "<table border=\"1\" class=\"dataframe\">\n",
       "  <thead>\n",
       "    <tr style=\"text-align: right;\">\n",
       "      <th></th>\n",
       "      <th>scores</th>\n",
       "      <th>features</th>\n",
       "    </tr>\n",
       "  </thead>\n",
       "  <tbody>\n",
       "    <tr>\n",
       "      <th>0</th>\n",
       "      <td>31.598158</td>\n",
       "      <td>battery_power</td>\n",
       "    </tr>\n",
       "    <tr>\n",
       "      <th>1</th>\n",
       "      <td>0.476768</td>\n",
       "      <td>blue</td>\n",
       "    </tr>\n",
       "    <tr>\n",
       "      <th>2</th>\n",
       "      <td>0.493708</td>\n",
       "      <td>clock_speed</td>\n",
       "    </tr>\n",
       "    <tr>\n",
       "      <th>3</th>\n",
       "      <td>0.428239</td>\n",
       "      <td>dual_sim</td>\n",
       "    </tr>\n",
       "    <tr>\n",
       "      <th>4</th>\n",
       "      <td>0.772182</td>\n",
       "      <td>fc</td>\n",
       "    </tr>\n",
       "    <tr>\n",
       "      <th>5</th>\n",
       "      <td>1.059525</td>\n",
       "      <td>four_g</td>\n",
       "    </tr>\n",
       "    <tr>\n",
       "      <th>6</th>\n",
       "      <td>2.922996</td>\n",
       "      <td>int_memory</td>\n",
       "    </tr>\n",
       "    <tr>\n",
       "      <th>7</th>\n",
       "      <td>1.500682</td>\n",
       "      <td>m_dep</td>\n",
       "    </tr>\n",
       "    <tr>\n",
       "      <th>8</th>\n",
       "      <td>3.594318</td>\n",
       "      <td>mobile_wt</td>\n",
       "    </tr>\n",
       "    <tr>\n",
       "      <th>9</th>\n",
       "      <td>2.625415</td>\n",
       "      <td>n_cores</td>\n",
       "    </tr>\n",
       "    <tr>\n",
       "      <th>10</th>\n",
       "      <td>0.825446</td>\n",
       "      <td>pc</td>\n",
       "    </tr>\n",
       "    <tr>\n",
       "      <th>11</th>\n",
       "      <td>19.484842</td>\n",
       "      <td>px_height</td>\n",
       "    </tr>\n",
       "    <tr>\n",
       "      <th>12</th>\n",
       "      <td>22.620882</td>\n",
       "      <td>px_width</td>\n",
       "    </tr>\n",
       "    <tr>\n",
       "      <th>13</th>\n",
       "      <td>3520.110824</td>\n",
       "      <td>ram</td>\n",
       "    </tr>\n",
       "    <tr>\n",
       "      <th>14</th>\n",
       "      <td>2.225984</td>\n",
       "      <td>sc_h</td>\n",
       "    </tr>\n",
       "    <tr>\n",
       "      <th>15</th>\n",
       "      <td>1.671000</td>\n",
       "      <td>sc_w</td>\n",
       "    </tr>\n",
       "    <tr>\n",
       "      <th>16</th>\n",
       "      <td>1.628811</td>\n",
       "      <td>talk_time</td>\n",
       "    </tr>\n",
       "    <tr>\n",
       "      <th>17</th>\n",
       "      <td>0.457320</td>\n",
       "      <td>three_g</td>\n",
       "    </tr>\n",
       "    <tr>\n",
       "      <th>18</th>\n",
       "      <td>1.293302</td>\n",
       "      <td>touch_screen</td>\n",
       "    </tr>\n",
       "    <tr>\n",
       "      <th>19</th>\n",
       "      <td>0.284940</td>\n",
       "      <td>wifi</td>\n",
       "    </tr>\n",
       "    <tr>\n",
       "      <th>20</th>\n",
       "      <td>NaN</td>\n",
       "      <td>price_range</td>\n",
       "    </tr>\n",
       "  </tbody>\n",
       "</table>\n",
       "</div>"
      ],
      "text/plain": [
       "         scores       features\n",
       "0     31.598158  battery_power\n",
       "1      0.476768           blue\n",
       "2      0.493708    clock_speed\n",
       "3      0.428239       dual_sim\n",
       "4      0.772182             fc\n",
       "5      1.059525         four_g\n",
       "6      2.922996     int_memory\n",
       "7      1.500682          m_dep\n",
       "8      3.594318      mobile_wt\n",
       "9      2.625415        n_cores\n",
       "10     0.825446             pc\n",
       "11    19.484842      px_height\n",
       "12    22.620882       px_width\n",
       "13  3520.110824            ram\n",
       "14     2.225984           sc_h\n",
       "15     1.671000           sc_w\n",
       "16     1.628811      talk_time\n",
       "17     0.457320        three_g\n",
       "18     1.293302   touch_screen\n",
       "19     0.284940           wifi\n",
       "20          NaN    price_range"
      ]
     },
     "execution_count": 41,
     "metadata": {},
     "output_type": "execute_result"
    }
   ],
   "source": [
    "df1"
   ]
  },
  {
   "cell_type": "code",
   "execution_count": 42,
   "id": "5105d758",
   "metadata": {
    "colab": {
     "base_uri": "https://localhost:8080/",
     "height": 362
    },
    "executionInfo": {
     "elapsed": 1689,
     "status": "ok",
     "timestamp": 1738250591559,
     "user": {
      "displayName": "Yameen Hakim",
      "userId": "10103794539266934668"
     },
     "user_tz": -330
    },
    "id": "5105d758",
    "outputId": "a20e1327-f9de-43ff-d38a-c983cfe8ff9d",
    "scrolled": false
   },
   "outputs": [
    {
     "data": {
      "text/html": [
       "<div>\n",
       "<style scoped>\n",
       "    .dataframe tbody tr th:only-of-type {\n",
       "        vertical-align: middle;\n",
       "    }\n",
       "\n",
       "    .dataframe tbody tr th {\n",
       "        vertical-align: top;\n",
       "    }\n",
       "\n",
       "    .dataframe thead th {\n",
       "        text-align: right;\n",
       "    }\n",
       "</style>\n",
       "<table border=\"1\" class=\"dataframe\">\n",
       "  <thead>\n",
       "    <tr style=\"text-align: right;\">\n",
       "      <th></th>\n",
       "      <th>scores</th>\n",
       "      <th>features</th>\n",
       "    </tr>\n",
       "  </thead>\n",
       "  <tbody>\n",
       "    <tr>\n",
       "      <th>13</th>\n",
       "      <td>3520.110824</td>\n",
       "      <td>ram</td>\n",
       "    </tr>\n",
       "    <tr>\n",
       "      <th>0</th>\n",
       "      <td>31.598158</td>\n",
       "      <td>battery_power</td>\n",
       "    </tr>\n",
       "    <tr>\n",
       "      <th>12</th>\n",
       "      <td>22.620882</td>\n",
       "      <td>px_width</td>\n",
       "    </tr>\n",
       "    <tr>\n",
       "      <th>11</th>\n",
       "      <td>19.484842</td>\n",
       "      <td>px_height</td>\n",
       "    </tr>\n",
       "    <tr>\n",
       "      <th>8</th>\n",
       "      <td>3.594318</td>\n",
       "      <td>mobile_wt</td>\n",
       "    </tr>\n",
       "    <tr>\n",
       "      <th>6</th>\n",
       "      <td>2.922996</td>\n",
       "      <td>int_memory</td>\n",
       "    </tr>\n",
       "    <tr>\n",
       "      <th>9</th>\n",
       "      <td>2.625415</td>\n",
       "      <td>n_cores</td>\n",
       "    </tr>\n",
       "    <tr>\n",
       "      <th>14</th>\n",
       "      <td>2.225984</td>\n",
       "      <td>sc_h</td>\n",
       "    </tr>\n",
       "    <tr>\n",
       "      <th>15</th>\n",
       "      <td>1.671000</td>\n",
       "      <td>sc_w</td>\n",
       "    </tr>\n",
       "    <tr>\n",
       "      <th>16</th>\n",
       "      <td>1.628811</td>\n",
       "      <td>talk_time</td>\n",
       "    </tr>\n",
       "  </tbody>\n",
       "</table>\n",
       "</div>"
      ],
      "text/plain": [
       "         scores       features\n",
       "13  3520.110824            ram\n",
       "0     31.598158  battery_power\n",
       "12    22.620882       px_width\n",
       "11    19.484842      px_height\n",
       "8      3.594318      mobile_wt\n",
       "6      2.922996     int_memory\n",
       "9      2.625415        n_cores\n",
       "14     2.225984           sc_h\n",
       "15     1.671000           sc_w\n",
       "16     1.628811      talk_time"
      ]
     },
     "execution_count": 42,
     "metadata": {},
     "output_type": "execute_result"
    }
   ],
   "source": [
    "final = df1.nlargest(10,'scores')\n",
    "final"
   ]
  },
  {
   "cell_type": "code",
   "execution_count": 43,
   "id": "8da3a153",
   "metadata": {
    "colab": {
     "base_uri": "https://localhost:8080/"
    },
    "executionInfo": {
     "elapsed": 15,
     "status": "ok",
     "timestamp": 1738250966853,
     "user": {
      "displayName": "Yameen Hakim",
      "userId": "10103794539266934668"
     },
     "user_tz": -330
    },
    "id": "8da3a153",
    "outputId": "45bfa5ff-d642-4b78-f328-573c6ae4f69f"
   },
   "outputs": [
    {
     "data": {
      "text/plain": [
       "['ram',\n",
       " 'battery_power',\n",
       " 'px_width',\n",
       " 'px_height',\n",
       " 'mobile_wt',\n",
       " 'int_memory',\n",
       " 'n_cores',\n",
       " 'sc_h',\n",
       " 'sc_w',\n",
       " 'talk_time']"
      ]
     },
     "execution_count": 43,
     "metadata": {},
     "output_type": "execute_result"
    }
   ],
   "source": [
    "new_cols = final.features.tolist()\n",
    "new_cols"
   ]
  },
  {
   "cell_type": "code",
   "execution_count": 44,
   "id": "f04d5675",
   "metadata": {
    "colab": {
     "base_uri": "https://localhost:8080/",
     "height": 112
    },
    "executionInfo": {
     "elapsed": 518,
     "status": "ok",
     "timestamp": 1738250978331,
     "user": {
      "displayName": "Yameen Hakim",
      "userId": "10103794539266934668"
     },
     "user_tz": -330
    },
    "id": "f04d5675",
    "outputId": "36ef1313-2349-4f67-d540-781814bef701",
    "scrolled": false
   },
   "outputs": [
    {
     "data": {
      "text/html": [
       "<div>\n",
       "<style scoped>\n",
       "    .dataframe tbody tr th:only-of-type {\n",
       "        vertical-align: middle;\n",
       "    }\n",
       "\n",
       "    .dataframe tbody tr th {\n",
       "        vertical-align: top;\n",
       "    }\n",
       "\n",
       "    .dataframe thead th {\n",
       "        text-align: right;\n",
       "    }\n",
       "</style>\n",
       "<table border=\"1\" class=\"dataframe\">\n",
       "  <thead>\n",
       "    <tr style=\"text-align: right;\">\n",
       "      <th></th>\n",
       "      <th>ram</th>\n",
       "      <th>battery_power</th>\n",
       "      <th>px_width</th>\n",
       "      <th>px_height</th>\n",
       "      <th>mobile_wt</th>\n",
       "      <th>int_memory</th>\n",
       "      <th>n_cores</th>\n",
       "      <th>sc_h</th>\n",
       "      <th>sc_w</th>\n",
       "      <th>talk_time</th>\n",
       "    </tr>\n",
       "  </thead>\n",
       "  <tbody>\n",
       "    <tr>\n",
       "      <th>0</th>\n",
       "      <td>2549</td>\n",
       "      <td>842</td>\n",
       "      <td>756</td>\n",
       "      <td>20</td>\n",
       "      <td>188</td>\n",
       "      <td>7</td>\n",
       "      <td>2</td>\n",
       "      <td>9</td>\n",
       "      <td>7</td>\n",
       "      <td>19</td>\n",
       "    </tr>\n",
       "    <tr>\n",
       "      <th>1</th>\n",
       "      <td>2631</td>\n",
       "      <td>1021</td>\n",
       "      <td>1988</td>\n",
       "      <td>905</td>\n",
       "      <td>136</td>\n",
       "      <td>53</td>\n",
       "      <td>3</td>\n",
       "      <td>17</td>\n",
       "      <td>3</td>\n",
       "      <td>7</td>\n",
       "    </tr>\n",
       "  </tbody>\n",
       "</table>\n",
       "</div>"
      ],
      "text/plain": [
       "    ram  battery_power  px_width  px_height  mobile_wt  int_memory  n_cores  \\\n",
       "0  2549            842       756         20        188           7        2   \n",
       "1  2631           1021      1988        905        136          53        3   \n",
       "\n",
       "   sc_h  sc_w  talk_time  \n",
       "0     9     7         19  \n",
       "1    17     3          7  "
      ]
     },
     "execution_count": 44,
     "metadata": {},
     "output_type": "execute_result"
    }
   ],
   "source": [
    "#x.loc[:,[final.features.values]]\n",
    "#x.loc[:,['blue','sc_h']]\n",
    "x_new = x.loc[:,new_cols]\n",
    "x_new.head(2)"
   ]
  },
  {
   "cell_type": "code",
   "execution_count": 45,
   "id": "73d3c65f",
   "metadata": {
    "id": "73d3c65f"
   },
   "outputs": [
    {
     "data": {
      "text/html": [
       "<div>\n",
       "<style scoped>\n",
       "    .dataframe tbody tr th:only-of-type {\n",
       "        vertical-align: middle;\n",
       "    }\n",
       "\n",
       "    .dataframe tbody tr th {\n",
       "        vertical-align: top;\n",
       "    }\n",
       "\n",
       "    .dataframe thead th {\n",
       "        text-align: right;\n",
       "    }\n",
       "</style>\n",
       "<table border=\"1\" class=\"dataframe\">\n",
       "  <thead>\n",
       "    <tr style=\"text-align: right;\">\n",
       "      <th></th>\n",
       "      <th>battery_power</th>\n",
       "      <th>blue</th>\n",
       "      <th>clock_speed</th>\n",
       "      <th>dual_sim</th>\n",
       "      <th>fc</th>\n",
       "      <th>four_g</th>\n",
       "      <th>int_memory</th>\n",
       "      <th>m_dep</th>\n",
       "      <th>mobile_wt</th>\n",
       "      <th>n_cores</th>\n",
       "      <th>pc</th>\n",
       "      <th>px_height</th>\n",
       "      <th>px_width</th>\n",
       "      <th>ram</th>\n",
       "      <th>sc_h</th>\n",
       "      <th>sc_w</th>\n",
       "      <th>talk_time</th>\n",
       "      <th>three_g</th>\n",
       "      <th>touch_screen</th>\n",
       "      <th>wifi</th>\n",
       "    </tr>\n",
       "  </thead>\n",
       "  <tbody>\n",
       "    <tr>\n",
       "      <th>0</th>\n",
       "      <td>842</td>\n",
       "      <td>0</td>\n",
       "      <td>2.2</td>\n",
       "      <td>0</td>\n",
       "      <td>1</td>\n",
       "      <td>0</td>\n",
       "      <td>7</td>\n",
       "      <td>0.6</td>\n",
       "      <td>188</td>\n",
       "      <td>2</td>\n",
       "      <td>2</td>\n",
       "      <td>20</td>\n",
       "      <td>756</td>\n",
       "      <td>2549</td>\n",
       "      <td>9</td>\n",
       "      <td>7</td>\n",
       "      <td>19</td>\n",
       "      <td>0</td>\n",
       "      <td>0</td>\n",
       "      <td>1</td>\n",
       "    </tr>\n",
       "    <tr>\n",
       "      <th>1</th>\n",
       "      <td>1021</td>\n",
       "      <td>1</td>\n",
       "      <td>0.5</td>\n",
       "      <td>1</td>\n",
       "      <td>0</td>\n",
       "      <td>1</td>\n",
       "      <td>53</td>\n",
       "      <td>0.7</td>\n",
       "      <td>136</td>\n",
       "      <td>3</td>\n",
       "      <td>6</td>\n",
       "      <td>905</td>\n",
       "      <td>1988</td>\n",
       "      <td>2631</td>\n",
       "      <td>17</td>\n",
       "      <td>3</td>\n",
       "      <td>7</td>\n",
       "      <td>1</td>\n",
       "      <td>1</td>\n",
       "      <td>0</td>\n",
       "    </tr>\n",
       "  </tbody>\n",
       "</table>\n",
       "</div>"
      ],
      "text/plain": [
       "   battery_power  blue  clock_speed  dual_sim  fc  four_g  int_memory  m_dep  \\\n",
       "0            842     0          2.2         0   1       0           7    0.6   \n",
       "1           1021     1          0.5         1   0       1          53    0.7   \n",
       "\n",
       "   mobile_wt  n_cores  pc  px_height  px_width   ram  sc_h  sc_w  talk_time  \\\n",
       "0        188        2   2         20       756  2549     9     7         19   \n",
       "1        136        3   6        905      1988  2631    17     3          7   \n",
       "\n",
       "   three_g  touch_screen  wifi  \n",
       "0        0             0     1  \n",
       "1        1             1     0  "
      ]
     },
     "execution_count": 45,
     "metadata": {},
     "output_type": "execute_result"
    }
   ],
   "source": [
    "x.head(2)"
   ]
  },
  {
   "cell_type": "code",
   "execution_count": 46,
   "id": "fd0436ec",
   "metadata": {
    "id": "fd0436ec"
   },
   "outputs": [
    {
     "data": {
      "text/plain": [
       "(2000, 20)"
      ]
     },
     "execution_count": 46,
     "metadata": {},
     "output_type": "execute_result"
    }
   ],
   "source": [
    "x.shape"
   ]
  },
  {
   "cell_type": "code",
   "execution_count": 47,
   "id": "a60ac993",
   "metadata": {
    "id": "a60ac993"
   },
   "outputs": [
    {
     "name": "stdout",
     "output_type": "stream",
     "text": [
      "<class 'pandas.core.frame.DataFrame'>\n",
      "RangeIndex: 2000 entries, 0 to 1999\n",
      "Data columns (total 10 columns):\n",
      " #   Column         Non-Null Count  Dtype\n",
      "---  ------         --------------  -----\n",
      " 0   ram            2000 non-null   int64\n",
      " 1   battery_power  2000 non-null   int64\n",
      " 2   px_width       2000 non-null   int64\n",
      " 3   px_height      2000 non-null   int64\n",
      " 4   mobile_wt      2000 non-null   int64\n",
      " 5   int_memory     2000 non-null   int64\n",
      " 6   n_cores        2000 non-null   int64\n",
      " 7   sc_h           2000 non-null   int64\n",
      " 8   sc_w           2000 non-null   int64\n",
      " 9   talk_time      2000 non-null   int64\n",
      "dtypes: int64(10)\n",
      "memory usage: 156.4 KB\n"
     ]
    }
   ],
   "source": [
    "x_new.info()"
   ]
  },
  {
   "cell_type": "markdown",
   "id": "966dc7e7",
   "metadata": {
    "id": "966dc7e7"
   },
   "source": [
    "# correlation coef"
   ]
  },
  {
   "cell_type": "code",
   "execution_count": 48,
   "id": "7e752e31",
   "metadata": {
    "colab": {
     "base_uri": "https://localhost:8080/",
     "height": 192
    },
    "executionInfo": {
     "elapsed": 611,
     "status": "ok",
     "timestamp": 1738251145630,
     "user": {
      "displayName": "Yameen Hakim",
      "userId": "10103794539266934668"
     },
     "user_tz": -330
    },
    "id": "7e752e31",
    "outputId": "c3c6db31-38fc-47c9-b09a-1ae9fdf0090c"
   },
   "outputs": [
    {
     "data": {
      "text/html": [
       "<div>\n",
       "<style scoped>\n",
       "    .dataframe tbody tr th:only-of-type {\n",
       "        vertical-align: middle;\n",
       "    }\n",
       "\n",
       "    .dataframe tbody tr th {\n",
       "        vertical-align: top;\n",
       "    }\n",
       "\n",
       "    .dataframe thead th {\n",
       "        text-align: right;\n",
       "    }\n",
       "</style>\n",
       "<table border=\"1\" class=\"dataframe\">\n",
       "  <thead>\n",
       "    <tr style=\"text-align: right;\">\n",
       "      <th></th>\n",
       "      <th>battery_power</th>\n",
       "      <th>blue</th>\n",
       "      <th>clock_speed</th>\n",
       "      <th>dual_sim</th>\n",
       "      <th>fc</th>\n",
       "      <th>four_g</th>\n",
       "      <th>int_memory</th>\n",
       "      <th>m_dep</th>\n",
       "      <th>mobile_wt</th>\n",
       "      <th>n_cores</th>\n",
       "      <th>...</th>\n",
       "      <th>px_height</th>\n",
       "      <th>px_width</th>\n",
       "      <th>ram</th>\n",
       "      <th>sc_h</th>\n",
       "      <th>sc_w</th>\n",
       "      <th>talk_time</th>\n",
       "      <th>three_g</th>\n",
       "      <th>touch_screen</th>\n",
       "      <th>wifi</th>\n",
       "      <th>price_range</th>\n",
       "    </tr>\n",
       "  </thead>\n",
       "  <tbody>\n",
       "    <tr>\n",
       "      <th>0</th>\n",
       "      <td>842</td>\n",
       "      <td>0</td>\n",
       "      <td>2.2</td>\n",
       "      <td>0</td>\n",
       "      <td>1</td>\n",
       "      <td>0</td>\n",
       "      <td>7</td>\n",
       "      <td>0.6</td>\n",
       "      <td>188</td>\n",
       "      <td>2</td>\n",
       "      <td>...</td>\n",
       "      <td>20</td>\n",
       "      <td>756</td>\n",
       "      <td>2549</td>\n",
       "      <td>9</td>\n",
       "      <td>7</td>\n",
       "      <td>19</td>\n",
       "      <td>0</td>\n",
       "      <td>0</td>\n",
       "      <td>1</td>\n",
       "      <td>1</td>\n",
       "    </tr>\n",
       "    <tr>\n",
       "      <th>1</th>\n",
       "      <td>1021</td>\n",
       "      <td>1</td>\n",
       "      <td>0.5</td>\n",
       "      <td>1</td>\n",
       "      <td>0</td>\n",
       "      <td>1</td>\n",
       "      <td>53</td>\n",
       "      <td>0.7</td>\n",
       "      <td>136</td>\n",
       "      <td>3</td>\n",
       "      <td>...</td>\n",
       "      <td>905</td>\n",
       "      <td>1988</td>\n",
       "      <td>2631</td>\n",
       "      <td>17</td>\n",
       "      <td>3</td>\n",
       "      <td>7</td>\n",
       "      <td>1</td>\n",
       "      <td>1</td>\n",
       "      <td>0</td>\n",
       "      <td>2</td>\n",
       "    </tr>\n",
       "    <tr>\n",
       "      <th>2</th>\n",
       "      <td>563</td>\n",
       "      <td>1</td>\n",
       "      <td>0.5</td>\n",
       "      <td>1</td>\n",
       "      <td>2</td>\n",
       "      <td>1</td>\n",
       "      <td>41</td>\n",
       "      <td>0.9</td>\n",
       "      <td>145</td>\n",
       "      <td>5</td>\n",
       "      <td>...</td>\n",
       "      <td>1263</td>\n",
       "      <td>1716</td>\n",
       "      <td>2603</td>\n",
       "      <td>11</td>\n",
       "      <td>2</td>\n",
       "      <td>9</td>\n",
       "      <td>1</td>\n",
       "      <td>1</td>\n",
       "      <td>0</td>\n",
       "      <td>2</td>\n",
       "    </tr>\n",
       "  </tbody>\n",
       "</table>\n",
       "<p>3 rows × 21 columns</p>\n",
       "</div>"
      ],
      "text/plain": [
       "   battery_power  blue  clock_speed  dual_sim  fc  four_g  int_memory  m_dep  \\\n",
       "0            842     0          2.2         0   1       0           7    0.6   \n",
       "1           1021     1          0.5         1   0       1          53    0.7   \n",
       "2            563     1          0.5         1   2       1          41    0.9   \n",
       "\n",
       "   mobile_wt  n_cores  ...  px_height  px_width   ram  sc_h  sc_w  talk_time  \\\n",
       "0        188        2  ...         20       756  2549     9     7         19   \n",
       "1        136        3  ...        905      1988  2631    17     3          7   \n",
       "2        145        5  ...       1263      1716  2603    11     2          9   \n",
       "\n",
       "   three_g  touch_screen  wifi  price_range  \n",
       "0        0             0     1            1  \n",
       "1        1             1     0            2  \n",
       "2        1             1     0            2  \n",
       "\n",
       "[3 rows x 21 columns]"
      ]
     },
     "execution_count": 48,
     "metadata": {},
     "output_type": "execute_result"
    }
   ],
   "source": [
    "df[:3]"
   ]
  },
  {
   "cell_type": "code",
   "execution_count": 49,
   "id": "378dbb0a",
   "metadata": {
    "executionInfo": {
     "elapsed": 605,
     "status": "ok",
     "timestamp": 1738251151257,
     "user": {
      "displayName": "Yameen Hakim",
      "userId": "10103794539266934668"
     },
     "user_tz": -330
    },
    "id": "378dbb0a"
   },
   "outputs": [],
   "source": [
    "df.corr?"
   ]
  },
  {
   "cell_type": "code",
   "execution_count": 50,
   "id": "2f725adb",
   "metadata": {
    "colab": {
     "base_uri": "https://localhost:8080/",
     "height": 1000
    },
    "executionInfo": {
     "elapsed": 9042,
     "status": "ok",
     "timestamp": 1738251314459,
     "user": {
      "displayName": "Yameen Hakim",
      "userId": "10103794539266934668"
     },
     "user_tz": -330
    },
    "id": "2f725adb",
    "outputId": "68f51d03-9cbf-48c5-cdbf-28400612dcfe",
    "scrolled": false
   },
   "outputs": [
    {
     "data": {
      "text/plain": [
       "<Axes: >"
      ]
     },
     "execution_count": 50,
     "metadata": {},
     "output_type": "execute_result"
    },
    {
     "data": {
      "image/png": "[encoded data removed]",
      "text/plain": [
       "<Figure size 1440x1440 with 2 Axes>"
      ]
     },
     "metadata": {
      "needs_background": "light"
     },
     "output_type": "display_data"
    }
   ],
   "source": [
    "plt.figure(figsize=(20,20))\n",
    "sns.heatmap(df.corr(),annot=True)"
   ]
  },
  {
   "cell_type": "code",
   "execution_count": 51,
   "id": "0247889b",
   "metadata": {
    "colab": {
     "base_uri": "https://localhost:8080/",
     "height": 448
    },
    "executionInfo": {
     "elapsed": 520,
     "status": "ok",
     "timestamp": 1738251562044,
     "user": {
      "displayName": "Yameen Hakim",
      "userId": "10103794539266934668"
     },
     "user_tz": -330
    },
    "id": "0247889b",
    "outputId": "cec97a7e-46cb-4ddb-fa47-b15a5cadd6d1",
    "scrolled": true
   },
   "outputs": [
    {
     "data": {
      "text/plain": [
       "<matplotlib.collections.PathCollection at 0x1a63a293190>"
      ]
     },
     "execution_count": 51,
     "metadata": {},
     "output_type": "execute_result"
    },
    {
     "data": {
      "image/png": "[encoded data removed]",
      "text/plain": [
       "<Figure size 432x288 with 1 Axes>"
      ]
     },
     "metadata": {
      "needs_background": "light"
     },
     "output_type": "display_data"
    }
   ],
   "source": [
    "# ram vs price_range\n",
    "plt.scatter(df.ram,df.price_range)"
   ]
  },
  {
   "cell_type": "code",
   "execution_count": 52,
   "id": "1dcac862",
   "metadata": {
    "colab": {
     "base_uri": "https://localhost:8080/",
     "height": 448
    },
    "executionInfo": {
     "elapsed": 1097,
     "status": "ok",
     "timestamp": 1738251586800,
     "user": {
      "displayName": "Yameen Hakim",
      "userId": "10103794539266934668"
     },
     "user_tz": -330
    },
    "id": "1dcac862",
    "outputId": "5f2d7bcb-7355-45a4-d722-3322cdd36e6c"
   },
   "outputs": [
    {
     "data": {
      "text/plain": [
       "<matplotlib.collections.PathCollection at 0x1a63971f520>"
      ]
     },
     "execution_count": 52,
     "metadata": {},
     "output_type": "execute_result"
    },
    {
     "data": {
      "image/png": "[encoded data removed]",
      "text/plain": [
       "<Figure size 432x288 with 1 Axes>"
      ]
     },
     "metadata": {
      "needs_background": "light"
     },
     "output_type": "display_data"
    }
   ],
   "source": [
    "# battery_power vs int_mem\n",
    "plt.scatter(df.battery_power,df.int_memory)"
   ]
  },
  {
   "cell_type": "markdown",
   "id": "b2d08163",
   "metadata": {
    "id": "b2d08163"
   },
   "source": [
    "# feature importance"
   ]
  },
  {
   "cell_type": "code",
   "execution_count": 53,
   "id": "6d6b5df7",
   "metadata": {
    "id": "6d6b5df7"
   },
   "outputs": [],
   "source": [
    "from sklearn.ensemble import ExtraTreesClassifier"
   ]
  },
  {
   "cell_type": "code",
   "execution_count": 54,
   "id": "f15a903a",
   "metadata": {
    "id": "f15a903a"
   },
   "outputs": [],
   "source": [
    "modl = ExtraTreesClassifier()"
   ]
  },
  {
   "cell_type": "code",
   "execution_count": 55,
   "id": "d5df1e22",
   "metadata": {
    "id": "d5df1e22"
   },
   "outputs": [],
   "source": [
    "# lets create x and y\n",
    "x = df.drop(columns='price_range')\n",
    "y = df.price_range"
   ]
  },
  {
   "cell_type": "code",
   "execution_count": 56,
   "id": "4cd9d55a",
   "metadata": {
    "id": "4cd9d55a"
   },
   "outputs": [
    {
     "data": {
      "text/plain": [
       "ExtraTreesClassifier()"
      ]
     },
     "execution_count": 56,
     "metadata": {},
     "output_type": "execute_result"
    }
   ],
   "source": [
    "modl.fit(x,y)"
   ]
  },
  {
   "cell_type": "code",
   "execution_count": 57,
   "id": "0baaf952",
   "metadata": {
    "id": "0baaf952"
   },
   "outputs": [
    {
     "data": {
      "text/plain": [
       "array([0.0624259 , 0.01910869, 0.03294615, 0.01936306, 0.03205177,\n",
       "       0.0164095 , 0.03523077, 0.03327242, 0.03634687, 0.03328706,\n",
       "       0.03277499, 0.04721765, 0.04879014, 0.39793735, 0.03378127,\n",
       "       0.03291557, 0.03448038, 0.01424235, 0.01782716, 0.01959094])"
      ]
     },
     "execution_count": 57,
     "metadata": {},
     "output_type": "execute_result"
    }
   ],
   "source": [
    "score = modl.feature_importances_\n",
    "score"
   ]
  },
  {
   "cell_type": "code",
   "execution_count": 58,
   "id": "2219a261",
   "metadata": {
    "id": "2219a261"
   },
   "outputs": [
    {
     "data": {
      "text/plain": [
       "battery_power    0.062426\n",
       "blue             0.019109\n",
       "clock_speed      0.032946\n",
       "dual_sim         0.019363\n",
       "fc               0.032052\n",
       "four_g           0.016410\n",
       "int_memory       0.035231\n",
       "m_dep            0.033272\n",
       "mobile_wt        0.036347\n",
       "n_cores          0.033287\n",
       "pc               0.032775\n",
       "px_height        0.047218\n",
       "px_width         0.048790\n",
       "ram              0.397937\n",
       "sc_h             0.033781\n",
       "sc_w             0.032916\n",
       "talk_time        0.034480\n",
       "three_g          0.014242\n",
       "touch_screen     0.017827\n",
       "wifi             0.019591\n",
       "dtype: float64"
      ]
     },
     "execution_count": 58,
     "metadata": {},
     "output_type": "execute_result"
    }
   ],
   "source": [
    "ranked_features = pd.Series(score,index=x.columns)\n",
    "ranked_features"
   ]
  },
  {
   "cell_type": "code",
   "execution_count": 59,
   "id": "e9a87bf0",
   "metadata": {
    "id": "e9a87bf0"
   },
   "outputs": [
    {
     "data": {
      "text/plain": [
       "<Axes: >"
      ]
     },
     "execution_count": 59,
     "metadata": {},
     "output_type": "execute_result"
    },
    {
     "data": {
      "image/png": "[encoded data removed]",
      "text/plain": [
       "<Figure size 432x288 with 1 Axes>"
      ]
     },
     "metadata": {
      "needs_background": "light"
     },
     "output_type": "display_data"
    }
   ],
   "source": [
    "ranked_features.nlargest(10).plot(kind='barh')"
   ]
  },
  {
   "cell_type": "markdown",
   "id": "50f55aca",
   "metadata": {
    "id": "50f55aca"
   },
   "source": [
    "# RFE(Recursive Feature elimination)"
   ]
  },
  {
   "cell_type": "code",
   "execution_count": 60,
   "id": "70612a9a",
   "metadata": {
    "id": "70612a9a"
   },
   "outputs": [],
   "source": [
    "from sklearn.feature_selection import RFE"
   ]
  },
  {
   "cell_type": "code",
   "execution_count": 61,
   "id": "ee0a1d32",
   "metadata": {
    "id": "ee0a1d32"
   },
   "outputs": [],
   "source": [
    "RFE?"
   ]
  },
  {
   "cell_type": "code",
   "execution_count": 62,
   "id": "7c09cf3c",
   "metadata": {
    "id": "7c09cf3c"
   },
   "outputs": [
    {
     "data": {
      "text/html": [
       "<div>\n",
       "<style scoped>\n",
       "    .dataframe tbody tr th:only-of-type {\n",
       "        vertical-align: middle;\n",
       "    }\n",
       "\n",
       "    .dataframe tbody tr th {\n",
       "        vertical-align: top;\n",
       "    }\n",
       "\n",
       "    .dataframe thead th {\n",
       "        text-align: right;\n",
       "    }\n",
       "</style>\n",
       "<table border=\"1\" class=\"dataframe\">\n",
       "  <thead>\n",
       "    <tr style=\"text-align: right;\">\n",
       "      <th></th>\n",
       "      <th>battery_power</th>\n",
       "      <th>blue</th>\n",
       "      <th>clock_speed</th>\n",
       "      <th>dual_sim</th>\n",
       "      <th>fc</th>\n",
       "      <th>four_g</th>\n",
       "      <th>int_memory</th>\n",
       "      <th>m_dep</th>\n",
       "      <th>mobile_wt</th>\n",
       "      <th>n_cores</th>\n",
       "      <th>pc</th>\n",
       "      <th>px_height</th>\n",
       "      <th>px_width</th>\n",
       "      <th>ram</th>\n",
       "      <th>sc_h</th>\n",
       "      <th>sc_w</th>\n",
       "      <th>talk_time</th>\n",
       "      <th>three_g</th>\n",
       "      <th>touch_screen</th>\n",
       "      <th>wifi</th>\n",
       "    </tr>\n",
       "  </thead>\n",
       "  <tbody>\n",
       "    <tr>\n",
       "      <th>0</th>\n",
       "      <td>842</td>\n",
       "      <td>0</td>\n",
       "      <td>2.2</td>\n",
       "      <td>0</td>\n",
       "      <td>1</td>\n",
       "      <td>0</td>\n",
       "      <td>7</td>\n",
       "      <td>0.6</td>\n",
       "      <td>188</td>\n",
       "      <td>2</td>\n",
       "      <td>2</td>\n",
       "      <td>20</td>\n",
       "      <td>756</td>\n",
       "      <td>2549</td>\n",
       "      <td>9</td>\n",
       "      <td>7</td>\n",
       "      <td>19</td>\n",
       "      <td>0</td>\n",
       "      <td>0</td>\n",
       "      <td>1</td>\n",
       "    </tr>\n",
       "    <tr>\n",
       "      <th>1</th>\n",
       "      <td>1021</td>\n",
       "      <td>1</td>\n",
       "      <td>0.5</td>\n",
       "      <td>1</td>\n",
       "      <td>0</td>\n",
       "      <td>1</td>\n",
       "      <td>53</td>\n",
       "      <td>0.7</td>\n",
       "      <td>136</td>\n",
       "      <td>3</td>\n",
       "      <td>6</td>\n",
       "      <td>905</td>\n",
       "      <td>1988</td>\n",
       "      <td>2631</td>\n",
       "      <td>17</td>\n",
       "      <td>3</td>\n",
       "      <td>7</td>\n",
       "      <td>1</td>\n",
       "      <td>1</td>\n",
       "      <td>0</td>\n",
       "    </tr>\n",
       "  </tbody>\n",
       "</table>\n",
       "</div>"
      ],
      "text/plain": [
       "   battery_power  blue  clock_speed  dual_sim  fc  four_g  int_memory  m_dep  \\\n",
       "0            842     0          2.2         0   1       0           7    0.6   \n",
       "1           1021     1          0.5         1   0       1          53    0.7   \n",
       "\n",
       "   mobile_wt  n_cores  pc  px_height  px_width   ram  sc_h  sc_w  talk_time  \\\n",
       "0        188        2   2         20       756  2549     9     7         19   \n",
       "1        136        3   6        905      1988  2631    17     3          7   \n",
       "\n",
       "   three_g  touch_screen  wifi  \n",
       "0        0             0     1  \n",
       "1        1             1     0  "
      ]
     },
     "execution_count": 62,
     "metadata": {},
     "output_type": "execute_result"
    }
   ],
   "source": [
    "x.head(2)"
   ]
  },
  {
   "cell_type": "code",
   "execution_count": 63,
   "id": "UD59hLPtBYmk",
   "metadata": {
    "id": "UD59hLPtBYmk"
   },
   "outputs": [],
   "source": [
    "# RFE(estimator= algorithm,no_of_features_to_select)"
   ]
  },
  {
   "cell_type": "code",
   "execution_count": 64,
   "id": "61983e2a",
   "metadata": {
    "id": "61983e2a"
   },
   "outputs": [],
   "source": [
    "from sklearn.linear_model import LogisticRegression\n",
    "lr_1 = LogisticRegression()"
   ]
  },
  {
   "cell_type": "code",
   "execution_count": 65,
   "id": "297f11db",
   "metadata": {
    "id": "297f11db"
   },
   "outputs": [],
   "source": [
    "rf_selector = RFE(estimator=lr_1,n_features_to_select=10)"
   ]
  },
  {
   "cell_type": "code",
   "execution_count": 66,
   "id": "5030acb3",
   "metadata": {
    "id": "5030acb3"
   },
   "outputs": [
    {
     "data": {
      "text/plain": [
       "RFE(estimator=LogisticRegression(), n_features_to_select=10)"
      ]
     },
     "execution_count": 66,
     "metadata": {},
     "output_type": "execute_result"
    }
   ],
   "source": [
    "rf_selector.fit(x,y)"
   ]
  },
  {
   "cell_type": "code",
   "execution_count": 67,
   "id": "c83b8810",
   "metadata": {
    "id": "c83b8810"
   },
   "outputs": [
    {
     "data": {
      "text/plain": [
       "array([False, False,  True, False,  True, False,  True, False,  True,\n",
       "        True,  True, False, False,  True,  True,  True,  True, False,\n",
       "       False, False])"
      ]
     },
     "execution_count": 67,
     "metadata": {},
     "output_type": "execute_result"
    }
   ],
   "source": [
    "out = rf_selector.support_\n",
    "out"
   ]
  },
  {
   "cell_type": "code",
   "execution_count": 68,
   "id": "30e8ac59",
   "metadata": {
    "id": "30e8ac59"
   },
   "outputs": [
    {
     "data": {
      "text/plain": [
       "array([ 5,  8,  1,  7,  1, 10,  1, 11,  1,  1,  1,  2,  3,  1,  1,  1,  1,\n",
       "        4,  6,  9])"
      ]
     },
     "execution_count": 68,
     "metadata": {},
     "output_type": "execute_result"
    }
   ],
   "source": [
    "rf_selector.ranking_"
   ]
  },
  {
   "cell_type": "code",
   "execution_count": 69,
   "id": "ce66f2a8",
   "metadata": {
    "id": "ce66f2a8"
   },
   "outputs": [
    {
     "data": {
      "text/html": [
       "<div>\n",
       "<style scoped>\n",
       "    .dataframe tbody tr th:only-of-type {\n",
       "        vertical-align: middle;\n",
       "    }\n",
       "\n",
       "    .dataframe tbody tr th {\n",
       "        vertical-align: top;\n",
       "    }\n",
       "\n",
       "    .dataframe thead th {\n",
       "        text-align: right;\n",
       "    }\n",
       "</style>\n",
       "<table border=\"1\" class=\"dataframe\">\n",
       "  <thead>\n",
       "    <tr style=\"text-align: right;\">\n",
       "      <th></th>\n",
       "      <th>clock_speed</th>\n",
       "      <th>fc</th>\n",
       "      <th>int_memory</th>\n",
       "      <th>mobile_wt</th>\n",
       "      <th>n_cores</th>\n",
       "      <th>pc</th>\n",
       "      <th>ram</th>\n",
       "      <th>sc_h</th>\n",
       "      <th>sc_w</th>\n",
       "      <th>talk_time</th>\n",
       "    </tr>\n",
       "  </thead>\n",
       "  <tbody>\n",
       "    <tr>\n",
       "      <th>0</th>\n",
       "      <td>2.2</td>\n",
       "      <td>1</td>\n",
       "      <td>7</td>\n",
       "      <td>188</td>\n",
       "      <td>2</td>\n",
       "      <td>2</td>\n",
       "      <td>2549</td>\n",
       "      <td>9</td>\n",
       "      <td>7</td>\n",
       "      <td>19</td>\n",
       "    </tr>\n",
       "    <tr>\n",
       "      <th>1</th>\n",
       "      <td>0.5</td>\n",
       "      <td>0</td>\n",
       "      <td>53</td>\n",
       "      <td>136</td>\n",
       "      <td>3</td>\n",
       "      <td>6</td>\n",
       "      <td>2631</td>\n",
       "      <td>17</td>\n",
       "      <td>3</td>\n",
       "      <td>7</td>\n",
       "    </tr>\n",
       "    <tr>\n",
       "      <th>2</th>\n",
       "      <td>0.5</td>\n",
       "      <td>2</td>\n",
       "      <td>41</td>\n",
       "      <td>145</td>\n",
       "      <td>5</td>\n",
       "      <td>6</td>\n",
       "      <td>2603</td>\n",
       "      <td>11</td>\n",
       "      <td>2</td>\n",
       "      <td>9</td>\n",
       "    </tr>\n",
       "    <tr>\n",
       "      <th>3</th>\n",
       "      <td>2.5</td>\n",
       "      <td>0</td>\n",
       "      <td>10</td>\n",
       "      <td>131</td>\n",
       "      <td>6</td>\n",
       "      <td>9</td>\n",
       "      <td>2769</td>\n",
       "      <td>16</td>\n",
       "      <td>8</td>\n",
       "      <td>11</td>\n",
       "    </tr>\n",
       "    <tr>\n",
       "      <th>4</th>\n",
       "      <td>1.2</td>\n",
       "      <td>13</td>\n",
       "      <td>44</td>\n",
       "      <td>141</td>\n",
       "      <td>2</td>\n",
       "      <td>14</td>\n",
       "      <td>1411</td>\n",
       "      <td>8</td>\n",
       "      <td>2</td>\n",
       "      <td>15</td>\n",
       "    </tr>\n",
       "    <tr>\n",
       "      <th>...</th>\n",
       "      <td>...</td>\n",
       "      <td>...</td>\n",
       "      <td>...</td>\n",
       "      <td>...</td>\n",
       "      <td>...</td>\n",
       "      <td>...</td>\n",
       "      <td>...</td>\n",
       "      <td>...</td>\n",
       "      <td>...</td>\n",
       "      <td>...</td>\n",
       "    </tr>\n",
       "    <tr>\n",
       "      <th>1995</th>\n",
       "      <td>0.5</td>\n",
       "      <td>0</td>\n",
       "      <td>2</td>\n",
       "      <td>106</td>\n",
       "      <td>6</td>\n",
       "      <td>14</td>\n",
       "      <td>668</td>\n",
       "      <td>13</td>\n",
       "      <td>4</td>\n",
       "      <td>19</td>\n",
       "    </tr>\n",
       "    <tr>\n",
       "      <th>1996</th>\n",
       "      <td>2.6</td>\n",
       "      <td>0</td>\n",
       "      <td>39</td>\n",
       "      <td>187</td>\n",
       "      <td>4</td>\n",
       "      <td>3</td>\n",
       "      <td>2032</td>\n",
       "      <td>11</td>\n",
       "      <td>10</td>\n",
       "      <td>16</td>\n",
       "    </tr>\n",
       "    <tr>\n",
       "      <th>1997</th>\n",
       "      <td>0.9</td>\n",
       "      <td>1</td>\n",
       "      <td>36</td>\n",
       "      <td>108</td>\n",
       "      <td>8</td>\n",
       "      <td>3</td>\n",
       "      <td>3057</td>\n",
       "      <td>9</td>\n",
       "      <td>1</td>\n",
       "      <td>5</td>\n",
       "    </tr>\n",
       "    <tr>\n",
       "      <th>1998</th>\n",
       "      <td>0.9</td>\n",
       "      <td>4</td>\n",
       "      <td>46</td>\n",
       "      <td>145</td>\n",
       "      <td>5</td>\n",
       "      <td>5</td>\n",
       "      <td>869</td>\n",
       "      <td>18</td>\n",
       "      <td>10</td>\n",
       "      <td>19</td>\n",
       "    </tr>\n",
       "    <tr>\n",
       "      <th>1999</th>\n",
       "      <td>2.0</td>\n",
       "      <td>5</td>\n",
       "      <td>45</td>\n",
       "      <td>168</td>\n",
       "      <td>6</td>\n",
       "      <td>16</td>\n",
       "      <td>3919</td>\n",
       "      <td>19</td>\n",
       "      <td>4</td>\n",
       "      <td>2</td>\n",
       "    </tr>\n",
       "  </tbody>\n",
       "</table>\n",
       "<p>2000 rows × 10 columns</p>\n",
       "</div>"
      ],
      "text/plain": [
       "      clock_speed  fc  int_memory  mobile_wt  n_cores  pc   ram  sc_h  sc_w  \\\n",
       "0             2.2   1           7        188        2   2  2549     9     7   \n",
       "1             0.5   0          53        136        3   6  2631    17     3   \n",
       "2             0.5   2          41        145        5   6  2603    11     2   \n",
       "3             2.5   0          10        131        6   9  2769    16     8   \n",
       "4             1.2  13          44        141        2  14  1411     8     2   \n",
       "...           ...  ..         ...        ...      ...  ..   ...   ...   ...   \n",
       "1995          0.5   0           2        106        6  14   668    13     4   \n",
       "1996          2.6   0          39        187        4   3  2032    11    10   \n",
       "1997          0.9   1          36        108        8   3  3057     9     1   \n",
       "1998          0.9   4          46        145        5   5   869    18    10   \n",
       "1999          2.0   5          45        168        6  16  3919    19     4   \n",
       "\n",
       "      talk_time  \n",
       "0            19  \n",
       "1             7  \n",
       "2             9  \n",
       "3            11  \n",
       "4            15  \n",
       "...         ...  \n",
       "1995         19  \n",
       "1996         16  \n",
       "1997          5  \n",
       "1998         19  \n",
       "1999          2  \n",
       "\n",
       "[2000 rows x 10 columns]"
      ]
     },
     "execution_count": 69,
     "metadata": {},
     "output_type": "execute_result"
    }
   ],
   "source": [
    "new_x = x.loc[:,out]\n",
    "new_x"
   ]
  },
  {
   "cell_type": "code",
   "execution_count": 70,
   "id": "5dc6151f",
   "metadata": {
    "id": "5dc6151f"
   },
   "outputs": [],
   "source": [
    "# lets try with other estimator\n",
    "from sklearn.ensemble import RandomForestClassifier\n",
    "rf = RandomForestClassifier()"
   ]
  },
  {
   "cell_type": "code",
   "execution_count": 71,
   "id": "4a43151a",
   "metadata": {
    "id": "4a43151a"
   },
   "outputs": [],
   "source": [
    "rf_selector_2 = RFE(estimator=rf,n_features_to_select=8)"
   ]
  },
  {
   "cell_type": "code",
   "execution_count": 72,
   "id": "4b7037db",
   "metadata": {
    "id": "4b7037db"
   },
   "outputs": [
    {
     "data": {
      "text/plain": [
       "RFE(estimator=RandomForestClassifier(), n_features_to_select=8)"
      ]
     },
     "execution_count": 72,
     "metadata": {},
     "output_type": "execute_result"
    }
   ],
   "source": [
    "rf_selector_2.fit(x,y)"
   ]
  },
  {
   "cell_type": "code",
   "execution_count": 73,
   "id": "b70ae57e",
   "metadata": {
    "id": "b70ae57e"
   },
   "outputs": [
    {
     "data": {
      "text/plain": [
       "array([ True, False, False, False, False, False,  True, False,  True,\n",
       "       False,  True,  True,  True,  True, False, False,  True, False,\n",
       "       False, False])"
      ]
     },
     "execution_count": 73,
     "metadata": {},
     "output_type": "execute_result"
    }
   ],
   "source": [
    "sp = rf_selector_2.support_\n",
    "sp"
   ]
  },
  {
   "cell_type": "code",
   "execution_count": 74,
   "id": "52cb666d",
   "metadata": {
    "id": "52cb666d"
   },
   "outputs": [
    {
     "data": {
      "text/html": [
       "<div>\n",
       "<style scoped>\n",
       "    .dataframe tbody tr th:only-of-type {\n",
       "        vertical-align: middle;\n",
       "    }\n",
       "\n",
       "    .dataframe tbody tr th {\n",
       "        vertical-align: top;\n",
       "    }\n",
       "\n",
       "    .dataframe thead th {\n",
       "        text-align: right;\n",
       "    }\n",
       "</style>\n",
       "<table border=\"1\" class=\"dataframe\">\n",
       "  <thead>\n",
       "    <tr style=\"text-align: right;\">\n",
       "      <th></th>\n",
       "      <th>battery_power</th>\n",
       "      <th>int_memory</th>\n",
       "      <th>mobile_wt</th>\n",
       "      <th>pc</th>\n",
       "      <th>px_height</th>\n",
       "      <th>px_width</th>\n",
       "      <th>ram</th>\n",
       "      <th>talk_time</th>\n",
       "    </tr>\n",
       "  </thead>\n",
       "  <tbody>\n",
       "    <tr>\n",
       "      <th>0</th>\n",
       "      <td>842</td>\n",
       "      <td>7</td>\n",
       "      <td>188</td>\n",
       "      <td>2</td>\n",
       "      <td>20</td>\n",
       "      <td>756</td>\n",
       "      <td>2549</td>\n",
       "      <td>19</td>\n",
       "    </tr>\n",
       "    <tr>\n",
       "      <th>1</th>\n",
       "      <td>1021</td>\n",
       "      <td>53</td>\n",
       "      <td>136</td>\n",
       "      <td>6</td>\n",
       "      <td>905</td>\n",
       "      <td>1988</td>\n",
       "      <td>2631</td>\n",
       "      <td>7</td>\n",
       "    </tr>\n",
       "    <tr>\n",
       "      <th>2</th>\n",
       "      <td>563</td>\n",
       "      <td>41</td>\n",
       "      <td>145</td>\n",
       "      <td>6</td>\n",
       "      <td>1263</td>\n",
       "      <td>1716</td>\n",
       "      <td>2603</td>\n",
       "      <td>9</td>\n",
       "    </tr>\n",
       "    <tr>\n",
       "      <th>3</th>\n",
       "      <td>615</td>\n",
       "      <td>10</td>\n",
       "      <td>131</td>\n",
       "      <td>9</td>\n",
       "      <td>1216</td>\n",
       "      <td>1786</td>\n",
       "      <td>2769</td>\n",
       "      <td>11</td>\n",
       "    </tr>\n",
       "    <tr>\n",
       "      <th>4</th>\n",
       "      <td>1821</td>\n",
       "      <td>44</td>\n",
       "      <td>141</td>\n",
       "      <td>14</td>\n",
       "      <td>1208</td>\n",
       "      <td>1212</td>\n",
       "      <td>1411</td>\n",
       "      <td>15</td>\n",
       "    </tr>\n",
       "    <tr>\n",
       "      <th>...</th>\n",
       "      <td>...</td>\n",
       "      <td>...</td>\n",
       "      <td>...</td>\n",
       "      <td>...</td>\n",
       "      <td>...</td>\n",
       "      <td>...</td>\n",
       "      <td>...</td>\n",
       "      <td>...</td>\n",
       "    </tr>\n",
       "    <tr>\n",
       "      <th>1995</th>\n",
       "      <td>794</td>\n",
       "      <td>2</td>\n",
       "      <td>106</td>\n",
       "      <td>14</td>\n",
       "      <td>1222</td>\n",
       "      <td>1890</td>\n",
       "      <td>668</td>\n",
       "      <td>19</td>\n",
       "    </tr>\n",
       "    <tr>\n",
       "      <th>1996</th>\n",
       "      <td>1965</td>\n",
       "      <td>39</td>\n",
       "      <td>187</td>\n",
       "      <td>3</td>\n",
       "      <td>915</td>\n",
       "      <td>1965</td>\n",
       "      <td>2032</td>\n",
       "      <td>16</td>\n",
       "    </tr>\n",
       "    <tr>\n",
       "      <th>1997</th>\n",
       "      <td>1911</td>\n",
       "      <td>36</td>\n",
       "      <td>108</td>\n",
       "      <td>3</td>\n",
       "      <td>868</td>\n",
       "      <td>1632</td>\n",
       "      <td>3057</td>\n",
       "      <td>5</td>\n",
       "    </tr>\n",
       "    <tr>\n",
       "      <th>1998</th>\n",
       "      <td>1512</td>\n",
       "      <td>46</td>\n",
       "      <td>145</td>\n",
       "      <td>5</td>\n",
       "      <td>336</td>\n",
       "      <td>670</td>\n",
       "      <td>869</td>\n",
       "      <td>19</td>\n",
       "    </tr>\n",
       "    <tr>\n",
       "      <th>1999</th>\n",
       "      <td>510</td>\n",
       "      <td>45</td>\n",
       "      <td>168</td>\n",
       "      <td>16</td>\n",
       "      <td>483</td>\n",
       "      <td>754</td>\n",
       "      <td>3919</td>\n",
       "      <td>2</td>\n",
       "    </tr>\n",
       "  </tbody>\n",
       "</table>\n",
       "<p>2000 rows × 8 columns</p>\n",
       "</div>"
      ],
      "text/plain": [
       "      battery_power  int_memory  mobile_wt  pc  px_height  px_width   ram  \\\n",
       "0               842           7        188   2         20       756  2549   \n",
       "1              1021          53        136   6        905      1988  2631   \n",
       "2               563          41        145   6       1263      1716  2603   \n",
       "3               615          10        131   9       1216      1786  2769   \n",
       "4              1821          44        141  14       1208      1212  1411   \n",
       "...             ...         ...        ...  ..        ...       ...   ...   \n",
       "1995            794           2        106  14       1222      1890   668   \n",
       "1996           1965          39        187   3        915      1965  2032   \n",
       "1997           1911          36        108   3        868      1632  3057   \n",
       "1998           1512          46        145   5        336       670   869   \n",
       "1999            510          45        168  16        483       754  3919   \n",
       "\n",
       "      talk_time  \n",
       "0            19  \n",
       "1             7  \n",
       "2             9  \n",
       "3            11  \n",
       "4            15  \n",
       "...         ...  \n",
       "1995         19  \n",
       "1996         16  \n",
       "1997          5  \n",
       "1998         19  \n",
       "1999          2  \n",
       "\n",
       "[2000 rows x 8 columns]"
      ]
     },
     "execution_count": 74,
     "metadata": {},
     "output_type": "execute_result"
    }
   ],
   "source": [
    "x.loc[:,sp]"
   ]
  },
  {
   "cell_type": "code",
   "execution_count": 75,
   "id": "7b622b8a",
   "metadata": {
    "id": "7b622b8a"
   },
   "outputs": [
    {
     "data": {
      "text/html": [
       "<div>\n",
       "<style scoped>\n",
       "    .dataframe tbody tr th:only-of-type {\n",
       "        vertical-align: middle;\n",
       "    }\n",
       "\n",
       "    .dataframe tbody tr th {\n",
       "        vertical-align: top;\n",
       "    }\n",
       "\n",
       "    .dataframe thead th {\n",
       "        text-align: right;\n",
       "    }\n",
       "</style>\n",
       "<table border=\"1\" class=\"dataframe\">\n",
       "  <thead>\n",
       "    <tr style=\"text-align: right;\">\n",
       "      <th></th>\n",
       "      <th>model</th>\n",
       "      <th>mpg</th>\n",
       "      <th>cyl</th>\n",
       "      <th>disp</th>\n",
       "      <th>hp</th>\n",
       "      <th>drat</th>\n",
       "      <th>wt</th>\n",
       "      <th>qsec</th>\n",
       "      <th>vs</th>\n",
       "      <th>am</th>\n",
       "      <th>gear</th>\n",
       "      <th>carb</th>\n",
       "    </tr>\n",
       "  </thead>\n",
       "  <tbody>\n",
       "    <tr>\n",
       "      <th>0</th>\n",
       "      <td>Mazda RX4</td>\n",
       "      <td>21.0</td>\n",
       "      <td>6</td>\n",
       "      <td>160.0</td>\n",
       "      <td>110</td>\n",
       "      <td>3.90</td>\n",
       "      <td>2.620</td>\n",
       "      <td>16.46</td>\n",
       "      <td>0</td>\n",
       "      <td>1</td>\n",
       "      <td>4</td>\n",
       "      <td>4</td>\n",
       "    </tr>\n",
       "    <tr>\n",
       "      <th>1</th>\n",
       "      <td>Mazda RX4 Wag</td>\n",
       "      <td>21.0</td>\n",
       "      <td>6</td>\n",
       "      <td>160.0</td>\n",
       "      <td>110</td>\n",
       "      <td>3.90</td>\n",
       "      <td>2.875</td>\n",
       "      <td>17.02</td>\n",
       "      <td>0</td>\n",
       "      <td>1</td>\n",
       "      <td>4</td>\n",
       "      <td>4</td>\n",
       "    </tr>\n",
       "    <tr>\n",
       "      <th>2</th>\n",
       "      <td>Datsun 710</td>\n",
       "      <td>22.8</td>\n",
       "      <td>4</td>\n",
       "      <td>108.0</td>\n",
       "      <td>93</td>\n",
       "      <td>3.85</td>\n",
       "      <td>2.320</td>\n",
       "      <td>18.61</td>\n",
       "      <td>1</td>\n",
       "      <td>1</td>\n",
       "      <td>4</td>\n",
       "      <td>1</td>\n",
       "    </tr>\n",
       "    <tr>\n",
       "      <th>3</th>\n",
       "      <td>Hornet 4 Drive</td>\n",
       "      <td>21.4</td>\n",
       "      <td>6</td>\n",
       "      <td>258.0</td>\n",
       "      <td>110</td>\n",
       "      <td>3.08</td>\n",
       "      <td>3.215</td>\n",
       "      <td>19.44</td>\n",
       "      <td>1</td>\n",
       "      <td>0</td>\n",
       "      <td>3</td>\n",
       "      <td>1</td>\n",
       "    </tr>\n",
       "    <tr>\n",
       "      <th>4</th>\n",
       "      <td>Hornet Sportabout</td>\n",
       "      <td>18.7</td>\n",
       "      <td>8</td>\n",
       "      <td>360.0</td>\n",
       "      <td>175</td>\n",
       "      <td>3.15</td>\n",
       "      <td>3.440</td>\n",
       "      <td>17.02</td>\n",
       "      <td>0</td>\n",
       "      <td>0</td>\n",
       "      <td>3</td>\n",
       "      <td>2</td>\n",
       "    </tr>\n",
       "  </tbody>\n",
       "</table>\n",
       "</div>"
      ],
      "text/plain": [
       "               model   mpg  cyl   disp   hp  drat     wt   qsec  vs  am  gear  \\\n",
       "0          Mazda RX4  21.0    6  160.0  110  3.90  2.620  16.46   0   1     4   \n",
       "1      Mazda RX4 Wag  21.0    6  160.0  110  3.90  2.875  17.02   0   1     4   \n",
       "2         Datsun 710  22.8    4  108.0   93  3.85  2.320  18.61   1   1     4   \n",
       "3     Hornet 4 Drive  21.4    6  258.0  110  3.08  3.215  19.44   1   0     3   \n",
       "4  Hornet Sportabout  18.7    8  360.0  175  3.15  3.440  17.02   0   0     3   \n",
       "\n",
       "   carb  \n",
       "0     4  \n",
       "1     4  \n",
       "2     1  \n",
       "3     1  \n",
       "4     2  "
      ]
     },
     "execution_count": 75,
     "metadata": {},
     "output_type": "execute_result"
    }
   ],
   "source": [
    "cr = pd.read_csv('https://raw.githubusercontent.com/sap0408/mtcars/master/mtcars.csv')\n",
    "cr.head()"
   ]
  },
  {
   "cell_type": "code",
   "execution_count": 76,
   "id": "OXCCfAZuHVx-",
   "metadata": {
    "id": "OXCCfAZuHVx-"
   },
   "outputs": [
    {
     "data": {
      "text/plain": [
       "32"
      ]
     },
     "execution_count": 76,
     "metadata": {},
     "output_type": "execute_result"
    }
   ],
   "source": [
    "cr.model.nunique()"
   ]
  },
  {
   "cell_type": "code",
   "execution_count": 77,
   "id": "OWZAJC3EGsk9",
   "metadata": {
    "id": "OWZAJC3EGsk9"
   },
   "outputs": [
    {
     "data": {
      "text/plain": [
       "<Axes: >"
      ]
     },
     "execution_count": 77,
     "metadata": {},
     "output_type": "execute_result"
    },
    {
     "data": {
      "image/png": "[encoded data removed]",
      "text/plain": [
       "<Figure size 432x288 with 1 Axes>"
      ]
     },
     "metadata": {
      "needs_background": "light"
     },
     "output_type": "display_data"
    }
   ],
   "source": [
    "y.plot()"
   ]
  },
  {
   "cell_type": "code",
   "execution_count": 78,
   "id": "R_wHUOx-F-qo",
   "metadata": {
    "id": "R_wHUOx-F-qo"
   },
   "outputs": [
    {
     "data": {
      "text/plain": [
       "<Axes: >"
      ]
     },
     "execution_count": 78,
     "metadata": {},
     "output_type": "execute_result"
    },
    {
     "data": {
      "image/png": "[encoded data removed]",
      "text/plain": [
       "<Figure size 432x288 with 1 Axes>"
      ]
     },
     "metadata": {
      "needs_background": "light"
     },
     "output_type": "display_data"
    }
   ],
   "source": [
    "cr.mpg.plot()"
   ]
  },
  {
   "cell_type": "code",
   "execution_count": 79,
   "id": "caf8d8cd",
   "metadata": {
    "id": "caf8d8cd"
   },
   "outputs": [
    {
     "data": {
      "text/html": [
       "<div>\n",
       "<style scoped>\n",
       "    .dataframe tbody tr th:only-of-type {\n",
       "        vertical-align: middle;\n",
       "    }\n",
       "\n",
       "    .dataframe tbody tr th {\n",
       "        vertical-align: top;\n",
       "    }\n",
       "\n",
       "    .dataframe thead th {\n",
       "        text-align: right;\n",
       "    }\n",
       "</style>\n",
       "<table border=\"1\" class=\"dataframe\">\n",
       "  <thead>\n",
       "    <tr style=\"text-align: right;\">\n",
       "      <th></th>\n",
       "      <th>cyl</th>\n",
       "      <th>disp</th>\n",
       "      <th>hp</th>\n",
       "      <th>drat</th>\n",
       "      <th>wt</th>\n",
       "      <th>qsec</th>\n",
       "      <th>vs</th>\n",
       "      <th>am</th>\n",
       "      <th>gear</th>\n",
       "      <th>carb</th>\n",
       "    </tr>\n",
       "  </thead>\n",
       "  <tbody>\n",
       "    <tr>\n",
       "      <th>0</th>\n",
       "      <td>6</td>\n",
       "      <td>160.0</td>\n",
       "      <td>110</td>\n",
       "      <td>3.9</td>\n",
       "      <td>2.620</td>\n",
       "      <td>16.46</td>\n",
       "      <td>0</td>\n",
       "      <td>1</td>\n",
       "      <td>4</td>\n",
       "      <td>4</td>\n",
       "    </tr>\n",
       "    <tr>\n",
       "      <th>1</th>\n",
       "      <td>6</td>\n",
       "      <td>160.0</td>\n",
       "      <td>110</td>\n",
       "      <td>3.9</td>\n",
       "      <td>2.875</td>\n",
       "      <td>17.02</td>\n",
       "      <td>0</td>\n",
       "      <td>1</td>\n",
       "      <td>4</td>\n",
       "      <td>4</td>\n",
       "    </tr>\n",
       "  </tbody>\n",
       "</table>\n",
       "</div>"
      ],
      "text/plain": [
       "   cyl   disp   hp  drat     wt   qsec  vs  am  gear  carb\n",
       "0    6  160.0  110   3.9  2.620  16.46   0   1     4     4\n",
       "1    6  160.0  110   3.9  2.875  17.02   0   1     4     4"
      ]
     },
     "execution_count": 79,
     "metadata": {},
     "output_type": "execute_result"
    }
   ],
   "source": [
    "# X,y separate\n",
    "X = cr.iloc[:,2:]\n",
    "X[:2]"
   ]
  },
  {
   "cell_type": "code",
   "execution_count": 80,
   "id": "438a9035",
   "metadata": {
    "id": "438a9035"
   },
   "outputs": [
    {
     "data": {
      "text/plain": [
       "(32, 10)"
      ]
     },
     "execution_count": 80,
     "metadata": {},
     "output_type": "execute_result"
    }
   ],
   "source": [
    "X.shape"
   ]
  },
  {
   "cell_type": "code",
   "execution_count": 81,
   "id": "d9c690a2",
   "metadata": {
    "id": "d9c690a2"
   },
   "outputs": [
    {
     "data": {
      "text/plain": [
       "0    21.0\n",
       "1    21.0\n",
       "2    22.8\n",
       "Name: mpg, dtype: float64"
      ]
     },
     "execution_count": 81,
     "metadata": {},
     "output_type": "execute_result"
    }
   ],
   "source": [
    "y = cr.mpg\n",
    "y[:3]"
   ]
  },
  {
   "cell_type": "code",
   "execution_count": 82,
   "id": "b5f58745",
   "metadata": {
    "id": "b5f58745"
   },
   "outputs": [],
   "source": [
    "from sklearn.linear_model import LinearRegression"
   ]
  },
  {
   "cell_type": "code",
   "execution_count": 83,
   "id": "08e70237",
   "metadata": {
    "id": "08e70237"
   },
   "outputs": [],
   "source": [
    "lr =  LinearRegression()"
   ]
  },
  {
   "cell_type": "code",
   "execution_count": 84,
   "id": "df304a2e",
   "metadata": {
    "id": "df304a2e"
   },
   "outputs": [
    {
     "data": {
      "text/plain": [
       "RFE(estimator=LinearRegression(), n_features_to_select=5)"
      ]
     },
     "execution_count": 84,
     "metadata": {},
     "output_type": "execute_result"
    }
   ],
   "source": [
    "rf_new = RFE(estimator=lr,n_features_to_select=5)\n",
    "rf_new"
   ]
  },
  {
   "cell_type": "markdown",
   "id": "afbc613c",
   "metadata": {
    "id": "afbc613c"
   },
   "source": [
    "## https://machinelearningmastery.com/rfe-feature-selection-in-python/"
   ]
  },
  {
   "cell_type": "code",
   "execution_count": 85,
   "id": "a52f6e84",
   "metadata": {
    "id": "a52f6e84"
   },
   "outputs": [
    {
     "data": {
      "text/plain": [
       "RFE(estimator=LinearRegression(), n_features_to_select=5)"
      ]
     },
     "execution_count": 85,
     "metadata": {},
     "output_type": "execute_result"
    }
   ],
   "source": [
    "rf_new.fit(X,y)"
   ]
  },
  {
   "cell_type": "code",
   "execution_count": 86,
   "id": "d2097760",
   "metadata": {
    "id": "d2097760"
   },
   "outputs": [
    {
     "data": {
      "text/plain": [
       "5"
      ]
     },
     "execution_count": 86,
     "metadata": {},
     "output_type": "execute_result"
    }
   ],
   "source": [
    "rf_new.n_features_"
   ]
  },
  {
   "cell_type": "code",
   "execution_count": 87,
   "id": "6a7dc114",
   "metadata": {
    "id": "6a7dc114"
   },
   "outputs": [
    {
     "data": {
      "text/plain": [
       "LinearRegression()"
      ]
     },
     "execution_count": 87,
     "metadata": {},
     "output_type": "execute_result"
    }
   ],
   "source": [
    "rf_new.estimator_"
   ]
  },
  {
   "cell_type": "code",
   "execution_count": 88,
   "id": "105bd247",
   "metadata": {
    "id": "105bd247"
   },
   "outputs": [
    {
     "data": {
      "text/plain": [
       "array([False, False, False,  True,  True,  True, False,  True, False,\n",
       "        True])"
      ]
     },
     "execution_count": 88,
     "metadata": {},
     "output_type": "execute_result"
    }
   ],
   "source": [
    "rf_new.support_"
   ]
  },
  {
   "cell_type": "code",
   "execution_count": 89,
   "id": "43215145",
   "metadata": {
    "id": "43215145"
   },
   "outputs": [
    {
     "data": {
      "text/plain": [
       "array([4, 6, 5, 1, 1, 1, 3, 1, 2, 1])"
      ]
     },
     "execution_count": 89,
     "metadata": {},
     "output_type": "execute_result"
    }
   ],
   "source": [
    "rf_new.ranking_"
   ]
  },
  {
   "cell_type": "code",
   "execution_count": 90,
   "id": "ce841c17",
   "metadata": {
    "id": "ce841c17"
   },
   "outputs": [
    {
     "data": {
      "text/plain": [
       "array([[ 3.9  ,  2.62 , 16.46 ,  1.   ,  4.   ],\n",
       "       [ 3.9  ,  2.875, 17.02 ,  1.   ,  4.   ],\n",
       "       [ 3.85 ,  2.32 , 18.61 ,  1.   ,  1.   ],\n",
       "       [ 3.08 ,  3.215, 19.44 ,  0.   ,  1.   ],\n",
       "       [ 3.15 ,  3.44 , 17.02 ,  0.   ,  2.   ],\n",
       "       [ 2.76 ,  3.46 , 20.22 ,  0.   ,  1.   ],\n",
       "       [ 3.21 ,  3.57 , 15.84 ,  0.   ,  4.   ],\n",
       "       [ 3.69 ,  3.19 , 20.   ,  0.   ,  2.   ],\n",
       "       [ 3.92 ,  3.15 , 22.9  ,  0.   ,  2.   ],\n",
       "       [ 3.92 ,  3.44 , 18.3  ,  0.   ,  4.   ],\n",
       "       [ 3.92 ,  3.44 , 18.9  ,  0.   ,  4.   ],\n",
       "       [ 3.07 ,  4.07 , 17.4  ,  0.   ,  3.   ],\n",
       "       [ 3.07 ,  3.73 , 17.6  ,  0.   ,  3.   ],\n",
       "       [ 3.07 ,  3.78 , 18.   ,  0.   ,  3.   ],\n",
       "       [ 2.93 ,  5.25 , 17.98 ,  0.   ,  4.   ],\n",
       "       [ 3.   ,  5.424, 17.82 ,  0.   ,  4.   ],\n",
       "       [ 3.23 ,  5.345, 17.42 ,  0.   ,  4.   ],\n",
       "       [ 4.08 ,  2.2  , 19.47 ,  1.   ,  1.   ],\n",
       "       [ 4.93 ,  1.615, 18.52 ,  1.   ,  2.   ],\n",
       "       [ 4.22 ,  1.835, 19.9  ,  1.   ,  1.   ],\n",
       "       [ 3.7  ,  2.465, 20.01 ,  0.   ,  1.   ],\n",
       "       [ 2.76 ,  3.52 , 16.87 ,  0.   ,  2.   ],\n",
       "       [ 3.15 ,  3.435, 17.3  ,  0.   ,  2.   ],\n",
       "       [ 3.73 ,  3.84 , 15.41 ,  0.   ,  4.   ],\n",
       "       [ 3.08 ,  3.845, 17.05 ,  0.   ,  2.   ],\n",
       "       [ 4.08 ,  1.935, 18.9  ,  1.   ,  1.   ],\n",
       "       [ 4.43 ,  2.14 , 16.7  ,  1.   ,  2.   ],\n",
       "       [ 3.77 ,  1.513, 16.9  ,  1.   ,  2.   ],\n",
       "       [ 4.22 ,  3.17 , 14.5  ,  1.   ,  4.   ],\n",
       "       [ 3.62 ,  2.77 , 15.5  ,  1.   ,  6.   ],\n",
       "       [ 3.54 ,  3.57 , 14.6  ,  1.   ,  8.   ],\n",
       "       [ 4.11 ,  2.78 , 18.6  ,  1.   ,  2.   ]])"
      ]
     },
     "execution_count": 90,
     "metadata": {},
     "output_type": "execute_result"
    }
   ],
   "source": [
    "rf_new.fit_transform(X,y)"
   ]
  },
  {
   "cell_type": "code",
   "execution_count": 91,
   "id": "e2207c10",
   "metadata": {
    "id": "e2207c10"
   },
   "outputs": [
    {
     "data": {
      "text/html": [
       "<div>\n",
       "<style scoped>\n",
       "    .dataframe tbody tr th:only-of-type {\n",
       "        vertical-align: middle;\n",
       "    }\n",
       "\n",
       "    .dataframe tbody tr th {\n",
       "        vertical-align: top;\n",
       "    }\n",
       "\n",
       "    .dataframe thead th {\n",
       "        text-align: right;\n",
       "    }\n",
       "</style>\n",
       "<table border=\"1\" class=\"dataframe\">\n",
       "  <thead>\n",
       "    <tr style=\"text-align: right;\">\n",
       "      <th></th>\n",
       "      <th>drat</th>\n",
       "      <th>wt</th>\n",
       "      <th>qsec</th>\n",
       "      <th>am</th>\n",
       "      <th>carb</th>\n",
       "    </tr>\n",
       "  </thead>\n",
       "  <tbody>\n",
       "    <tr>\n",
       "      <th>0</th>\n",
       "      <td>3.90</td>\n",
       "      <td>2.620</td>\n",
       "      <td>16.46</td>\n",
       "      <td>1</td>\n",
       "      <td>4</td>\n",
       "    </tr>\n",
       "    <tr>\n",
       "      <th>1</th>\n",
       "      <td>3.90</td>\n",
       "      <td>2.875</td>\n",
       "      <td>17.02</td>\n",
       "      <td>1</td>\n",
       "      <td>4</td>\n",
       "    </tr>\n",
       "    <tr>\n",
       "      <th>2</th>\n",
       "      <td>3.85</td>\n",
       "      <td>2.320</td>\n",
       "      <td>18.61</td>\n",
       "      <td>1</td>\n",
       "      <td>1</td>\n",
       "    </tr>\n",
       "  </tbody>\n",
       "</table>\n",
       "</div>"
      ],
      "text/plain": [
       "   drat     wt   qsec  am  carb\n",
       "0  3.90  2.620  16.46   1     4\n",
       "1  3.90  2.875  17.02   1     4\n",
       "2  3.85  2.320  18.61   1     1"
      ]
     },
     "execution_count": 91,
     "metadata": {},
     "output_type": "execute_result"
    }
   ],
   "source": [
    "X.loc[:,rf_new.support_][:3]"
   ]
  },
  {
   "cell_type": "code",
   "execution_count": 92,
   "id": "fv7FZ_SZJDNp",
   "metadata": {
    "id": "fv7FZ_SZJDNp"
   },
   "outputs": [
    {
     "data": {
      "text/plain": [
       "RFE(estimator=DecisionTreeRegressor(), n_features_to_select=5)"
      ]
     },
     "execution_count": 92,
     "metadata": {},
     "output_type": "execute_result"
    }
   ],
   "source": [
    "# use decision tree regressor\n",
    "from sklearn.tree import DecisionTreeRegressor\n",
    "dtr = DecisionTreeRegressor()\n",
    "\n",
    "rfe_dt = RFE(estimator=dtr,n_features_to_select=5)\n",
    "rfe_dt.fit(X,y)"
   ]
  },
  {
   "cell_type": "code",
   "execution_count": 93,
   "id": "DRGtLvwTJS63",
   "metadata": {
    "id": "DRGtLvwTJS63"
   },
   "outputs": [
    {
     "data": {
      "text/html": [
       "<div>\n",
       "<style scoped>\n",
       "    .dataframe tbody tr th:only-of-type {\n",
       "        vertical-align: middle;\n",
       "    }\n",
       "\n",
       "    .dataframe tbody tr th {\n",
       "        vertical-align: top;\n",
       "    }\n",
       "\n",
       "    .dataframe thead th {\n",
       "        text-align: right;\n",
       "    }\n",
       "</style>\n",
       "<table border=\"1\" class=\"dataframe\">\n",
       "  <thead>\n",
       "    <tr style=\"text-align: right;\">\n",
       "      <th></th>\n",
       "      <th>disp</th>\n",
       "      <th>hp</th>\n",
       "      <th>wt</th>\n",
       "      <th>qsec</th>\n",
       "      <th>carb</th>\n",
       "    </tr>\n",
       "  </thead>\n",
       "  <tbody>\n",
       "    <tr>\n",
       "      <th>0</th>\n",
       "      <td>160.0</td>\n",
       "      <td>110</td>\n",
       "      <td>2.620</td>\n",
       "      <td>16.46</td>\n",
       "      <td>4</td>\n",
       "    </tr>\n",
       "    <tr>\n",
       "      <th>1</th>\n",
       "      <td>160.0</td>\n",
       "      <td>110</td>\n",
       "      <td>2.875</td>\n",
       "      <td>17.02</td>\n",
       "      <td>4</td>\n",
       "    </tr>\n",
       "    <tr>\n",
       "      <th>2</th>\n",
       "      <td>108.0</td>\n",
       "      <td>93</td>\n",
       "      <td>2.320</td>\n",
       "      <td>18.61</td>\n",
       "      <td>1</td>\n",
       "    </tr>\n",
       "  </tbody>\n",
       "</table>\n",
       "</div>"
      ],
      "text/plain": [
       "    disp   hp     wt   qsec  carb\n",
       "0  160.0  110  2.620  16.46     4\n",
       "1  160.0  110  2.875  17.02     4\n",
       "2  108.0   93  2.320  18.61     1"
      ]
     },
     "execution_count": 93,
     "metadata": {},
     "output_type": "execute_result"
    }
   ],
   "source": [
    "X.loc[:,rfe_dt.support_][:3]"
   ]
  },
  {
   "cell_type": "code",
   "execution_count": 94,
   "id": "4ce481cf",
   "metadata": {
    "id": "4ce481cf"
   },
   "outputs": [],
   "source": [
    "from sklearn.feature_selection import mutual_info_regression"
   ]
  },
  {
   "cell_type": "code",
   "execution_count": 95,
   "id": "SECEGkcuIaTI",
   "metadata": {
    "id": "SECEGkcuIaTI"
   },
   "outputs": [],
   "source": [
    "from sklearn.feature_selection import SelectKBest"
   ]
  },
  {
   "cell_type": "code",
   "execution_count": 96,
   "id": "86dab153",
   "metadata": {
    "id": "86dab153",
    "scrolled": true
   },
   "outputs": [
    {
     "data": {
      "text/plain": [
       "SelectKBest(k=5,\n",
       "            score_func=<function mutual_info_regression at 0x000001A6372D2DC0>)"
      ]
     },
     "execution_count": 96,
     "metadata": {},
     "output_type": "execute_result"
    }
   ],
   "source": [
    "sk = SelectKBest(score_func=mutual_info_regression,k=5)\n",
    "sk"
   ]
  },
  {
   "cell_type": "code",
   "execution_count": 97,
   "id": "391a3448",
   "metadata": {
    "id": "391a3448"
   },
   "outputs": [
    {
     "data": {
      "text/plain": [
       "SelectKBest(k=5,\n",
       "            score_func=<function mutual_info_regression at 0x000001A6372D2DC0>)"
      ]
     },
     "execution_count": 97,
     "metadata": {},
     "output_type": "execute_result"
    }
   ],
   "source": [
    "sk.fit(X,y)"
   ]
  },
  {
   "cell_type": "code",
   "execution_count": 98,
   "id": "29f2928e",
   "metadata": {
    "id": "29f2928e"
   },
   "outputs": [
    {
     "data": {
      "text/plain": [
       "array([0.7836538 , 0.70980322, 0.80757101, 0.20306537, 0.79802784,\n",
       "       0.        , 0.29036912, 0.20270941, 0.2005781 , 0.09597557])"
      ]
     },
     "execution_count": 98,
     "metadata": {},
     "output_type": "execute_result"
    }
   ],
   "source": [
    "sk.scores_"
   ]
  },
  {
   "cell_type": "code",
   "execution_count": 99,
   "id": "fdd51716",
   "metadata": {
    "id": "fdd51716"
   },
   "outputs": [
    {
     "data": {
      "text/html": [
       "<div>\n",
       "<style scoped>\n",
       "    .dataframe tbody tr th:only-of-type {\n",
       "        vertical-align: middle;\n",
       "    }\n",
       "\n",
       "    .dataframe tbody tr th {\n",
       "        vertical-align: top;\n",
       "    }\n",
       "\n",
       "    .dataframe thead th {\n",
       "        text-align: right;\n",
       "    }\n",
       "</style>\n",
       "<table border=\"1\" class=\"dataframe\">\n",
       "  <thead>\n",
       "    <tr style=\"text-align: right;\">\n",
       "      <th></th>\n",
       "      <th>score</th>\n",
       "      <th>features</th>\n",
       "    </tr>\n",
       "  </thead>\n",
       "  <tbody>\n",
       "    <tr>\n",
       "      <th>0</th>\n",
       "      <td>0.783654</td>\n",
       "      <td>cyl</td>\n",
       "    </tr>\n",
       "    <tr>\n",
       "      <th>1</th>\n",
       "      <td>0.709803</td>\n",
       "      <td>disp</td>\n",
       "    </tr>\n",
       "    <tr>\n",
       "      <th>2</th>\n",
       "      <td>0.807571</td>\n",
       "      <td>hp</td>\n",
       "    </tr>\n",
       "    <tr>\n",
       "      <th>3</th>\n",
       "      <td>0.203065</td>\n",
       "      <td>drat</td>\n",
       "    </tr>\n",
       "    <tr>\n",
       "      <th>4</th>\n",
       "      <td>0.798028</td>\n",
       "      <td>wt</td>\n",
       "    </tr>\n",
       "    <tr>\n",
       "      <th>5</th>\n",
       "      <td>0.000000</td>\n",
       "      <td>qsec</td>\n",
       "    </tr>\n",
       "    <tr>\n",
       "      <th>6</th>\n",
       "      <td>0.290369</td>\n",
       "      <td>vs</td>\n",
       "    </tr>\n",
       "    <tr>\n",
       "      <th>7</th>\n",
       "      <td>0.202709</td>\n",
       "      <td>am</td>\n",
       "    </tr>\n",
       "    <tr>\n",
       "      <th>8</th>\n",
       "      <td>0.200578</td>\n",
       "      <td>gear</td>\n",
       "    </tr>\n",
       "    <tr>\n",
       "      <th>9</th>\n",
       "      <td>0.095976</td>\n",
       "      <td>carb</td>\n",
       "    </tr>\n",
       "  </tbody>\n",
       "</table>\n",
       "</div>"
      ],
      "text/plain": [
       "      score features\n",
       "0  0.783654      cyl\n",
       "1  0.709803     disp\n",
       "2  0.807571       hp\n",
       "3  0.203065     drat\n",
       "4  0.798028       wt\n",
       "5  0.000000     qsec\n",
       "6  0.290369       vs\n",
       "7  0.202709       am\n",
       "8  0.200578     gear\n",
       "9  0.095976     carb"
      ]
     },
     "execution_count": 99,
     "metadata": {},
     "output_type": "execute_result"
    }
   ],
   "source": [
    "final = pd.concat([pd.DataFrame(sk.scores_,columns=['score']),pd.DataFrame(X.columns,columns=['features'])],axis=1)\n",
    "final[:]"
   ]
  },
  {
   "cell_type": "code",
   "execution_count": 100,
   "id": "af475dc5",
   "metadata": {
    "id": "af475dc5"
   },
   "outputs": [
    {
     "data": {
      "text/html": [
       "<div>\n",
       "<style scoped>\n",
       "    .dataframe tbody tr th:only-of-type {\n",
       "        vertical-align: middle;\n",
       "    }\n",
       "\n",
       "    .dataframe tbody tr th {\n",
       "        vertical-align: top;\n",
       "    }\n",
       "\n",
       "    .dataframe thead th {\n",
       "        text-align: right;\n",
       "    }\n",
       "</style>\n",
       "<table border=\"1\" class=\"dataframe\">\n",
       "  <thead>\n",
       "    <tr style=\"text-align: right;\">\n",
       "      <th></th>\n",
       "      <th>score</th>\n",
       "      <th>features</th>\n",
       "    </tr>\n",
       "  </thead>\n",
       "  <tbody>\n",
       "    <tr>\n",
       "      <th>2</th>\n",
       "      <td>0.807571</td>\n",
       "      <td>hp</td>\n",
       "    </tr>\n",
       "    <tr>\n",
       "      <th>4</th>\n",
       "      <td>0.798028</td>\n",
       "      <td>wt</td>\n",
       "    </tr>\n",
       "    <tr>\n",
       "      <th>0</th>\n",
       "      <td>0.783654</td>\n",
       "      <td>cyl</td>\n",
       "    </tr>\n",
       "    <tr>\n",
       "      <th>1</th>\n",
       "      <td>0.709803</td>\n",
       "      <td>disp</td>\n",
       "    </tr>\n",
       "    <tr>\n",
       "      <th>6</th>\n",
       "      <td>0.290369</td>\n",
       "      <td>vs</td>\n",
       "    </tr>\n",
       "  </tbody>\n",
       "</table>\n",
       "</div>"
      ],
      "text/plain": [
       "      score features\n",
       "2  0.807571       hp\n",
       "4  0.798028       wt\n",
       "0  0.783654      cyl\n",
       "1  0.709803     disp\n",
       "6  0.290369       vs"
      ]
     },
     "execution_count": 100,
     "metadata": {},
     "output_type": "execute_result"
    }
   ],
   "source": [
    "final.nlargest(5,'score')"
   ]
  },
  {
   "cell_type": "code",
   "execution_count": 101,
   "id": "13287ef8",
   "metadata": {
    "id": "13287ef8"
   },
   "outputs": [
    {
     "ename": "SyntaxError",
     "evalue": "invalid syntax (<ipython-input-101-dbd818eb99df>, line 1)",
     "output_type": "error",
     "traceback": [
      "\u001b[1;36m  File \u001b[1;32m\"<ipython-input-101-dbd818eb99df>\"\u001b[1;36m, line \u001b[1;32m1\u001b[0m\n\u001b[1;33m    salaray= 10000 5 1000000\u001b[0m\n\u001b[1;37m                   ^\u001b[0m\n\u001b[1;31mSyntaxError\u001b[0m\u001b[1;31m:\u001b[0m invalid syntax\n"
     ]
    }
   ],
   "source": [
    "salaray= 10000 5 1000000"
   ]
  },
  {
   "cell_type": "markdown",
   "id": "30a23cf3",
   "metadata": {
    "id": "kbxw0F_YK9XS"
   },
   "source": [
    "**Recursive Feature Elimination (RFE)** is a powerful feature selection technique that helps identify the most important features by recursively removing the least important ones and evaluating model performance. It is typically used with a machine learning model to help improve model efficiency, accuracy, and interpretability by reducing the number of features.\n",
    "\n",
    "### **How Recursive Feature Elimination (RFE) Works:**\n",
    "\n",
    "1. **Initial Model Training**: RFE begins by training a model on all available features. For example, this could be a linear regression, support vector machine (SVM), or decision tree, among others. The choice of model depends on the specific use case.\n",
    "\n",
    "2. **Feature Ranking**: After training the model, RFE ranks the features based on their importance. The importance can be assessed using the model’s internal feature importance ranking (e.g., coefficients in linear models, or feature importance in decision trees). In the case of linear models, for instance, features with the smallest coefficients might be considered less important.\n",
    "\n",
    "3. **Eliminate the Least Important Feature(s)**: The feature(s) deemed least important are removed from the dataset.\n",
    "\n",
    "4. **Re-train the Model**: The model is retrained on the remaining features, and the feature importance ranking is again assessed.\n",
    "\n",
    "5. **Repeat**: Steps 3 and 4 are repeated iteratively, removing one or more of the least important features each time. This process continues until a predefined number of features is reached (or until no further improvement is made in model performance).\n",
    "\n",
    "6. **Final Feature Set**: The result of RFE is the set of features that remains after this iterative process—these features are considered the most useful for the model.\n",
    "\n",
    "### **Advantages of RFE**:\n",
    "\n",
    "1. **Improved Model Performance**: By removing irrelevant or redundant features, RFE helps reduce overfitting, which in turn improves generalization and predictive performance of the model.\n",
    "   \n",
    "2. **Feature Ranking**: RFE provides a ranked list of features, making it easier to understand which features are most influential in making predictions.\n",
    "\n",
    "3. **Versatility**: RFE can be applied to any machine learning algorithm that has a way to assess feature importance. It works well with linear models, decision trees, and support vector machines (SVMs), among others.\n",
    "\n",
    "4. **Automation**: The process of recursive elimination is automated, making it easier to identify optimal features without manual intervention.\n",
    "\n",
    "### **Disadvantages of RFE**:\n",
    "\n",
    "1. **Computationally Expensive**: RFE requires training a model multiple times, which can be computationally expensive and time-consuming, especially with large datasets or complex models.\n",
    "\n",
    "2. **Model Dependency**: RFE depends on the model used to assess feature importance. Different models might rank features differently, which means the result could change based on the choice of model. \n",
    "\n",
    "3. **Risk of Overfitting**: If not used carefully, RFE can lead to overfitting, especially in cases where there are many irrelevant features that could be removed during the process.\n",
    "\n",
    "4. **No Interaction Consideration**: RFE does not account for interactions between features. Some features may appear unimportant on their own but could be highly valuable in combination with other features.\n",
    "\n",
    "### **Example Use Case in Python (using scikit-learn):**\n",
    "\n",
    "Here’s how you can implement RFE in Python using scikit-learn:\n",
    "\n",
    "```python\n",
    "from sklearn.datasets import load_iris\n",
    "from sklearn.model_selection import train_test_split\n",
    "from sklearn.svm import SVC\n",
    "from sklearn.feature_selection import RFE\n",
    "\n",
    "# Load dataset\n",
    "data = load_iris()\n",
    "X = data.data\n",
    "y = data.target\n",
    "\n",
    "# Split dataset\n",
    "X_train, X_test, y_train, y_test = train_test_split(X, y, test_size=0.3, random_state=42)\n",
    "\n",
    "# Choose a model (SVM with a linear kernel in this case)\n",
    "model = SVC(kernel=\"linear\")\n",
    "\n",
    "# Initialize RFE and fit it to the training data\n",
    "rfe = RFE(estimator=model, n_features_to_select=2)  # Select top 2 features\n",
    "rfe.fit(X_train, y_train)\n",
    "\n",
    "# Get the ranking of features\n",
    "print(\"Feature Ranking: \", rfe.ranking_)\n",
    "\n",
    "# Get the selected features\n",
    "print(\"Selected Features: \", rfe.support_)\n",
    "\n",
    "# Evaluate the model with the selected features\n",
    "X_train_rfe = rfe.transform(X_train)\n",
    "X_test_rfe = rfe.transform(X_test)\n",
    "model.fit(X_train_rfe, y_train)\n",
    "print(f\"Model Accuracy with RFE Features: {model.score(X_test_rfe, y_test)}\")\n",
    "```\n",
    "\n",
    "### **Key Points to Remember**:\n",
    "- **Number of Features to Select**: You need to specify how many features you want to retain (i.e., `n_features_to_select`). The more features you keep, the less aggressive the feature elimination process.\n",
    "- **Model Choice**: RFE works well with models that provide feature importance, such as linear models (logistic regression, SVM with linear kernel) and tree-based models (decision trees, random forests).\n",
    "\n",
    "### **Use Cases for RFE**:\n",
    "- **Dimensionality Reduction**: When you have a large number of features and want to reduce complexity without losing important information.\n",
    "- **Improved Model Interpretability**: By selecting a smaller number of important features, RFE makes the model more interpretable, which is especially important in areas like healthcare or finance.\n",
    "- **Better Generalization**: By removing irrelevant or noisy features, RFE reduces overfitting and improves the model's ability to generalize to unseen data.\n",
    "\n",
    "In summary, Recursive Feature Elimination (RFE) is an effective feature selection technique for improving model performance and interpretability. However, it can be computationally expensive, so it’s important to consider the trade-offs and apply it wisely."
   ]
  },
  {
   "cell_type": "markdown",
   "id": "9c4b678f",
   "metadata": {},
   "source": [
    "Feature selection is a crucial step in the machine learning pipeline, aimed at improving model performance, reducing overfitting, and making the model easier to interpret. There are several techniques available for feature selection, each with its own strengths. Here are five important feature selection techniques explained in detail:\n",
    "\n",
    "1. Filter Methods\n",
    "Filter methods assess the relevance of features by their intrinsic properties, independent of any machine learning model. These methods use statistical measures to score and rank features, and then select the most relevant ones.\n",
    "\n",
    "Common Techniques:\n",
    "\n",
    "Chi-squared Test: Measures dependence between feature and target variable.\n",
    "Correlation Coefficient: Measures the relationship between two variables.\n",
    "Mutual Information: Measures the amount of information shared between feature and target variable.\n",
    "Advantages:\n",
    "\n",
    "Fast and computationally inexpensive.\n",
    "Easy to implement.\n",
    "Does not require a machine learning model.\n",
    "Disadvantages:\n",
    "\n",
    "Does not account for feature interactions.\n",
    "Might ignore features that are important in combination with others.\n",
    "2. Wrapper Methods\n",
    "Wrapper methods evaluate feature subsets by training a machine learning model and assessing its performance. This process can be computationally expensive because it requires repeated model training.\n",
    "\n",
    "Common Techniques:\n",
    "\n",
    "Forward Selection: Starts with no features and adds features one by one based on model performance.\n",
    "Backward Elimination: Starts with all features and removes the least useful feature at each step.\n",
    "Recursive Feature Elimination (RFE): Recursively removes features based on model performance, starting with all features and systematically eliminating the least important ones.\n",
    "Advantages:\n",
    "\n",
    "Accounts for interactions between features.\n",
    "Tends to select features that are most useful for the specific model used.\n",
    "Disadvantages:\n",
    "\n",
    "Computationally expensive.\n",
    "May overfit the model, especially with small datasets.\n",
    "3. Embedded Methods\n",
    "Embedded methods perform feature selection during the model training process. These techniques combine the strengths of both filter and wrapper methods and are typically used in models like decision trees or regularized linear models.\n",
    "\n",
    "Common Techniques:\n",
    "\n",
    "Lasso (L1 Regularization): Adds a penalty to the loss function based on the absolute value of the feature coefficients, which encourages sparsity in feature selection.\n",
    "Decision Trees: Use the feature importance derived from tree-building algorithms to select the most significant features.\n",
    "Random Forest: A type of ensemble method that computes feature importance by averaging the importance scores across all trees in the forest.\n",
    "Advantages:\n",
    "\n",
    "More efficient than wrapper methods.\n",
    "Incorporates feature selection during model training, making it suitable for large datasets.\n",
    "Disadvantages:\n",
    "\n",
    "Can still be computationally expensive for very large datasets.\n",
    "Dependent on the choice of model (e.g., lasso works well with linear models but may not be as effective with other models).\n",
    "4. Principal Component Analysis (PCA)\n",
    "PCA is a dimensionality reduction technique rather than traditional feature selection. It transforms the original features into a new set of features (principal components) that capture the most variance in the data.\n",
    "\n",
    "How It Works:\n",
    "\n",
    "PCA identifies a set of orthogonal axes (principal components) that maximize the variance of the data.\n",
    "The features are then projected onto these new axes, and components with lower variance are discarded, reducing the feature space.\n",
    "Advantages:\n",
    "\n",
    "Effective for reducing dimensionality while retaining most of the variance.\n",
    "Helps with visualization and mitigating multicollinearity.\n",
    "Disadvantages:\n",
    "\n",
    "Does not preserve original feature interpretability (the principal components are combinations of original features).\n",
    "Can be computationally expensive for very high-dimensional data.\n",
    "5. Genetic Algorithms\n",
    "Genetic algorithms are an optimization technique inspired by natural selection. They are used for feature selection by simulating the process of evolution, iteratively selecting and combining the best performing feature subsets.\n",
    "\n",
    "How It Works:\n",
    "\n",
    "A population of feature subsets is initialized.\n",
    "Each subset is evaluated based on its performance using a chosen evaluation metric (e.g., accuracy of a classifier).\n",
    "The best subsets are selected for reproduction (crossovers) and mutation (random changes) to form new subsets, and the process repeats.\n",
    "Advantages:\n",
    "\n",
    "Can explore large search spaces and discover non-obvious feature subsets.\n",
    "Suitable for complex problems with many features and feature interactions.\n",
    "Disadvantages:\n",
    "\n",
    "Computationally expensive.\n",
    "Requires careful tuning of genetic algorithm parameters (e.g., population size, crossover rate).\n",
    "Each of these methods has its pros and cons, and the choice of which to use depends on factors like the nature of the data, the computational resources available, and the specific goals of the analysis. Often, a combination of techniques works best to achieve optimal feature selection."
   ]
  },
  {
   "cell_type": "code",
   "execution_count": null,
   "id": "235c3a6f",
   "metadata": {},
   "outputs": [],
   "source": []
  },
  {
   "cell_type": "code",
   "execution_count": 124,
   "id": "1069f10e",
   "metadata": {},
   "outputs": [],
   "source": [
    "c= sns.load_dataset('car_crashes')"
   ]
  },
  {
   "cell_type": "code",
   "execution_count": 105,
   "id": "6d7247f5",
   "metadata": {},
   "outputs": [
    {
     "data": {
      "text/html": [
       "<div>\n",
       "<style scoped>\n",
       "    .dataframe tbody tr th:only-of-type {\n",
       "        vertical-align: middle;\n",
       "    }\n",
       "\n",
       "    .dataframe tbody tr th {\n",
       "        vertical-align: top;\n",
       "    }\n",
       "\n",
       "    .dataframe thead th {\n",
       "        text-align: right;\n",
       "    }\n",
       "</style>\n",
       "<table border=\"1\" class=\"dataframe\">\n",
       "  <thead>\n",
       "    <tr style=\"text-align: right;\">\n",
       "      <th></th>\n",
       "      <th>total</th>\n",
       "      <th>speeding</th>\n",
       "      <th>alcohol</th>\n",
       "      <th>not_distracted</th>\n",
       "      <th>no_previous</th>\n",
       "      <th>ins_premium</th>\n",
       "      <th>ins_losses</th>\n",
       "      <th>abbrev</th>\n",
       "    </tr>\n",
       "  </thead>\n",
       "  <tbody>\n",
       "    <tr>\n",
       "      <th>0</th>\n",
       "      <td>18.8</td>\n",
       "      <td>7.332</td>\n",
       "      <td>5.640</td>\n",
       "      <td>18.048</td>\n",
       "      <td>15.040</td>\n",
       "      <td>784.55</td>\n",
       "      <td>145.08</td>\n",
       "      <td>AL</td>\n",
       "    </tr>\n",
       "    <tr>\n",
       "      <th>1</th>\n",
       "      <td>18.1</td>\n",
       "      <td>7.421</td>\n",
       "      <td>4.525</td>\n",
       "      <td>16.290</td>\n",
       "      <td>17.014</td>\n",
       "      <td>1053.48</td>\n",
       "      <td>133.93</td>\n",
       "      <td>AK</td>\n",
       "    </tr>\n",
       "    <tr>\n",
       "      <th>2</th>\n",
       "      <td>18.6</td>\n",
       "      <td>6.510</td>\n",
       "      <td>5.208</td>\n",
       "      <td>15.624</td>\n",
       "      <td>17.856</td>\n",
       "      <td>899.47</td>\n",
       "      <td>110.35</td>\n",
       "      <td>AZ</td>\n",
       "    </tr>\n",
       "    <tr>\n",
       "      <th>3</th>\n",
       "      <td>22.4</td>\n",
       "      <td>4.032</td>\n",
       "      <td>5.824</td>\n",
       "      <td>21.056</td>\n",
       "      <td>21.280</td>\n",
       "      <td>827.34</td>\n",
       "      <td>142.39</td>\n",
       "      <td>AR</td>\n",
       "    </tr>\n",
       "    <tr>\n",
       "      <th>4</th>\n",
       "      <td>12.0</td>\n",
       "      <td>4.200</td>\n",
       "      <td>3.360</td>\n",
       "      <td>10.920</td>\n",
       "      <td>10.680</td>\n",
       "      <td>878.41</td>\n",
       "      <td>165.63</td>\n",
       "      <td>CA</td>\n",
       "    </tr>\n",
       "  </tbody>\n",
       "</table>\n",
       "</div>"
      ],
      "text/plain": [
       "   total  speeding  alcohol  not_distracted  no_previous  ins_premium  \\\n",
       "0   18.8     7.332    5.640          18.048       15.040       784.55   \n",
       "1   18.1     7.421    4.525          16.290       17.014      1053.48   \n",
       "2   18.6     6.510    5.208          15.624       17.856       899.47   \n",
       "3   22.4     4.032    5.824          21.056       21.280       827.34   \n",
       "4   12.0     4.200    3.360          10.920       10.680       878.41   \n",
       "\n",
       "   ins_losses abbrev  \n",
       "0      145.08     AL  \n",
       "1      133.93     AK  \n",
       "2      110.35     AZ  \n",
       "3      142.39     AR  \n",
       "4      165.63     CA  "
      ]
     },
     "execution_count": 105,
     "metadata": {},
     "output_type": "execute_result"
    }
   ],
   "source": [
    "c.head()"
   ]
  },
  {
   "cell_type": "code",
   "execution_count": 117,
   "id": "c09d433f",
   "metadata": {},
   "outputs": [],
   "source": [
    "X=c.iloc[:,1:6]"
   ]
  },
  {
   "cell_type": "code",
   "execution_count": 118,
   "id": "b573b2d3",
   "metadata": {
    "scrolled": true
   },
   "outputs": [
    {
     "data": {
      "text/html": [
       "<div>\n",
       "<style scoped>\n",
       "    .dataframe tbody tr th:only-of-type {\n",
       "        vertical-align: middle;\n",
       "    }\n",
       "\n",
       "    .dataframe tbody tr th {\n",
       "        vertical-align: top;\n",
       "    }\n",
       "\n",
       "    .dataframe thead th {\n",
       "        text-align: right;\n",
       "    }\n",
       "</style>\n",
       "<table border=\"1\" class=\"dataframe\">\n",
       "  <thead>\n",
       "    <tr style=\"text-align: right;\">\n",
       "      <th></th>\n",
       "      <th>speeding</th>\n",
       "      <th>alcohol</th>\n",
       "      <th>not_distracted</th>\n",
       "      <th>no_previous</th>\n",
       "      <th>ins_premium</th>\n",
       "    </tr>\n",
       "  </thead>\n",
       "  <tbody>\n",
       "    <tr>\n",
       "      <th>0</th>\n",
       "      <td>7.332</td>\n",
       "      <td>5.640</td>\n",
       "      <td>18.048</td>\n",
       "      <td>15.040</td>\n",
       "      <td>784.55</td>\n",
       "    </tr>\n",
       "    <tr>\n",
       "      <th>1</th>\n",
       "      <td>7.421</td>\n",
       "      <td>4.525</td>\n",
       "      <td>16.290</td>\n",
       "      <td>17.014</td>\n",
       "      <td>1053.48</td>\n",
       "    </tr>\n",
       "    <tr>\n",
       "      <th>2</th>\n",
       "      <td>6.510</td>\n",
       "      <td>5.208</td>\n",
       "      <td>15.624</td>\n",
       "      <td>17.856</td>\n",
       "      <td>899.47</td>\n",
       "    </tr>\n",
       "    <tr>\n",
       "      <th>3</th>\n",
       "      <td>4.032</td>\n",
       "      <td>5.824</td>\n",
       "      <td>21.056</td>\n",
       "      <td>21.280</td>\n",
       "      <td>827.34</td>\n",
       "    </tr>\n",
       "    <tr>\n",
       "      <th>4</th>\n",
       "      <td>4.200</td>\n",
       "      <td>3.360</td>\n",
       "      <td>10.920</td>\n",
       "      <td>10.680</td>\n",
       "      <td>878.41</td>\n",
       "    </tr>\n",
       "    <tr>\n",
       "      <th>5</th>\n",
       "      <td>5.032</td>\n",
       "      <td>3.808</td>\n",
       "      <td>10.744</td>\n",
       "      <td>12.920</td>\n",
       "      <td>835.50</td>\n",
       "    </tr>\n",
       "    <tr>\n",
       "      <th>6</th>\n",
       "      <td>4.968</td>\n",
       "      <td>3.888</td>\n",
       "      <td>9.396</td>\n",
       "      <td>8.856</td>\n",
       "      <td>1068.73</td>\n",
       "    </tr>\n",
       "    <tr>\n",
       "      <th>7</th>\n",
       "      <td>6.156</td>\n",
       "      <td>4.860</td>\n",
       "      <td>14.094</td>\n",
       "      <td>16.038</td>\n",
       "      <td>1137.87</td>\n",
       "    </tr>\n",
       "    <tr>\n",
       "      <th>8</th>\n",
       "      <td>2.006</td>\n",
       "      <td>1.593</td>\n",
       "      <td>5.900</td>\n",
       "      <td>5.900</td>\n",
       "      <td>1273.89</td>\n",
       "    </tr>\n",
       "    <tr>\n",
       "      <th>9</th>\n",
       "      <td>3.759</td>\n",
       "      <td>5.191</td>\n",
       "      <td>16.468</td>\n",
       "      <td>16.826</td>\n",
       "      <td>1160.13</td>\n",
       "    </tr>\n",
       "    <tr>\n",
       "      <th>10</th>\n",
       "      <td>2.964</td>\n",
       "      <td>3.900</td>\n",
       "      <td>14.820</td>\n",
       "      <td>14.508</td>\n",
       "      <td>913.15</td>\n",
       "    </tr>\n",
       "    <tr>\n",
       "      <th>11</th>\n",
       "      <td>9.450</td>\n",
       "      <td>7.175</td>\n",
       "      <td>14.350</td>\n",
       "      <td>15.225</td>\n",
       "      <td>861.18</td>\n",
       "    </tr>\n",
       "    <tr>\n",
       "      <th>12</th>\n",
       "      <td>5.508</td>\n",
       "      <td>4.437</td>\n",
       "      <td>13.005</td>\n",
       "      <td>14.994</td>\n",
       "      <td>641.96</td>\n",
       "    </tr>\n",
       "    <tr>\n",
       "      <th>13</th>\n",
       "      <td>4.608</td>\n",
       "      <td>4.352</td>\n",
       "      <td>12.032</td>\n",
       "      <td>12.288</td>\n",
       "      <td>803.11</td>\n",
       "    </tr>\n",
       "    <tr>\n",
       "      <th>14</th>\n",
       "      <td>3.625</td>\n",
       "      <td>4.205</td>\n",
       "      <td>13.775</td>\n",
       "      <td>13.775</td>\n",
       "      <td>710.46</td>\n",
       "    </tr>\n",
       "    <tr>\n",
       "      <th>15</th>\n",
       "      <td>2.669</td>\n",
       "      <td>3.925</td>\n",
       "      <td>15.229</td>\n",
       "      <td>13.659</td>\n",
       "      <td>649.06</td>\n",
       "    </tr>\n",
       "    <tr>\n",
       "      <th>16</th>\n",
       "      <td>4.806</td>\n",
       "      <td>4.272</td>\n",
       "      <td>13.706</td>\n",
       "      <td>15.130</td>\n",
       "      <td>780.45</td>\n",
       "    </tr>\n",
       "    <tr>\n",
       "      <th>17</th>\n",
       "      <td>4.066</td>\n",
       "      <td>4.922</td>\n",
       "      <td>16.692</td>\n",
       "      <td>16.264</td>\n",
       "      <td>872.51</td>\n",
       "    </tr>\n",
       "    <tr>\n",
       "      <th>18</th>\n",
       "      <td>7.175</td>\n",
       "      <td>6.765</td>\n",
       "      <td>14.965</td>\n",
       "      <td>20.090</td>\n",
       "      <td>1281.55</td>\n",
       "    </tr>\n",
       "    <tr>\n",
       "      <th>19</th>\n",
       "      <td>5.738</td>\n",
       "      <td>4.530</td>\n",
       "      <td>13.137</td>\n",
       "      <td>12.684</td>\n",
       "      <td>661.88</td>\n",
       "    </tr>\n",
       "    <tr>\n",
       "      <th>20</th>\n",
       "      <td>4.250</td>\n",
       "      <td>4.000</td>\n",
       "      <td>8.875</td>\n",
       "      <td>12.375</td>\n",
       "      <td>1048.78</td>\n",
       "    </tr>\n",
       "    <tr>\n",
       "      <th>21</th>\n",
       "      <td>1.886</td>\n",
       "      <td>2.870</td>\n",
       "      <td>7.134</td>\n",
       "      <td>6.560</td>\n",
       "      <td>1011.14</td>\n",
       "    </tr>\n",
       "    <tr>\n",
       "      <th>22</th>\n",
       "      <td>3.384</td>\n",
       "      <td>3.948</td>\n",
       "      <td>13.395</td>\n",
       "      <td>10.857</td>\n",
       "      <td>1110.61</td>\n",
       "    </tr>\n",
       "    <tr>\n",
       "      <th>23</th>\n",
       "      <td>2.208</td>\n",
       "      <td>2.784</td>\n",
       "      <td>8.448</td>\n",
       "      <td>8.448</td>\n",
       "      <td>777.18</td>\n",
       "    </tr>\n",
       "    <tr>\n",
       "      <th>24</th>\n",
       "      <td>2.640</td>\n",
       "      <td>5.456</td>\n",
       "      <td>1.760</td>\n",
       "      <td>17.600</td>\n",
       "      <td>896.07</td>\n",
       "    </tr>\n",
       "    <tr>\n",
       "      <th>25</th>\n",
       "      <td>6.923</td>\n",
       "      <td>5.474</td>\n",
       "      <td>14.812</td>\n",
       "      <td>13.524</td>\n",
       "      <td>790.32</td>\n",
       "    </tr>\n",
       "    <tr>\n",
       "      <th>26</th>\n",
       "      <td>8.346</td>\n",
       "      <td>9.416</td>\n",
       "      <td>17.976</td>\n",
       "      <td>18.190</td>\n",
       "      <td>816.21</td>\n",
       "    </tr>\n",
       "    <tr>\n",
       "      <th>27</th>\n",
       "      <td>1.937</td>\n",
       "      <td>5.215</td>\n",
       "      <td>13.857</td>\n",
       "      <td>13.410</td>\n",
       "      <td>732.28</td>\n",
       "    </tr>\n",
       "    <tr>\n",
       "      <th>28</th>\n",
       "      <td>5.439</td>\n",
       "      <td>4.704</td>\n",
       "      <td>13.965</td>\n",
       "      <td>14.553</td>\n",
       "      <td>1029.87</td>\n",
       "    </tr>\n",
       "    <tr>\n",
       "      <th>29</th>\n",
       "      <td>4.060</td>\n",
       "      <td>3.480</td>\n",
       "      <td>10.092</td>\n",
       "      <td>9.628</td>\n",
       "      <td>746.54</td>\n",
       "    </tr>\n",
       "    <tr>\n",
       "      <th>30</th>\n",
       "      <td>1.792</td>\n",
       "      <td>3.136</td>\n",
       "      <td>9.632</td>\n",
       "      <td>8.736</td>\n",
       "      <td>1301.52</td>\n",
       "    </tr>\n",
       "    <tr>\n",
       "      <th>31</th>\n",
       "      <td>3.496</td>\n",
       "      <td>4.968</td>\n",
       "      <td>12.328</td>\n",
       "      <td>18.032</td>\n",
       "      <td>869.85</td>\n",
       "    </tr>\n",
       "    <tr>\n",
       "      <th>32</th>\n",
       "      <td>3.936</td>\n",
       "      <td>3.567</td>\n",
       "      <td>10.824</td>\n",
       "      <td>9.840</td>\n",
       "      <td>1234.31</td>\n",
       "    </tr>\n",
       "    <tr>\n",
       "      <th>33</th>\n",
       "      <td>6.552</td>\n",
       "      <td>5.208</td>\n",
       "      <td>15.792</td>\n",
       "      <td>13.608</td>\n",
       "      <td>708.24</td>\n",
       "    </tr>\n",
       "    <tr>\n",
       "      <th>34</th>\n",
       "      <td>5.497</td>\n",
       "      <td>10.038</td>\n",
       "      <td>23.661</td>\n",
       "      <td>20.554</td>\n",
       "      <td>688.75</td>\n",
       "    </tr>\n",
       "    <tr>\n",
       "      <th>35</th>\n",
       "      <td>3.948</td>\n",
       "      <td>4.794</td>\n",
       "      <td>13.959</td>\n",
       "      <td>11.562</td>\n",
       "      <td>697.73</td>\n",
       "    </tr>\n",
       "    <tr>\n",
       "      <th>36</th>\n",
       "      <td>6.368</td>\n",
       "      <td>5.771</td>\n",
       "      <td>18.308</td>\n",
       "      <td>18.706</td>\n",
       "      <td>881.51</td>\n",
       "    </tr>\n",
       "    <tr>\n",
       "      <th>37</th>\n",
       "      <td>4.224</td>\n",
       "      <td>3.328</td>\n",
       "      <td>8.576</td>\n",
       "      <td>11.520</td>\n",
       "      <td>804.71</td>\n",
       "    </tr>\n",
       "    <tr>\n",
       "      <th>38</th>\n",
       "      <td>9.100</td>\n",
       "      <td>5.642</td>\n",
       "      <td>17.472</td>\n",
       "      <td>16.016</td>\n",
       "      <td>905.99</td>\n",
       "    </tr>\n",
       "    <tr>\n",
       "      <th>39</th>\n",
       "      <td>3.774</td>\n",
       "      <td>4.218</td>\n",
       "      <td>10.212</td>\n",
       "      <td>8.769</td>\n",
       "      <td>1148.99</td>\n",
       "    </tr>\n",
       "    <tr>\n",
       "      <th>40</th>\n",
       "      <td>9.082</td>\n",
       "      <td>9.799</td>\n",
       "      <td>22.944</td>\n",
       "      <td>19.359</td>\n",
       "      <td>858.97</td>\n",
       "    </tr>\n",
       "    <tr>\n",
       "      <th>41</th>\n",
       "      <td>6.014</td>\n",
       "      <td>6.402</td>\n",
       "      <td>19.012</td>\n",
       "      <td>16.684</td>\n",
       "      <td>669.31</td>\n",
       "    </tr>\n",
       "    <tr>\n",
       "      <th>42</th>\n",
       "      <td>4.095</td>\n",
       "      <td>5.655</td>\n",
       "      <td>15.990</td>\n",
       "      <td>15.795</td>\n",
       "      <td>767.91</td>\n",
       "    </tr>\n",
       "    <tr>\n",
       "      <th>43</th>\n",
       "      <td>7.760</td>\n",
       "      <td>7.372</td>\n",
       "      <td>17.654</td>\n",
       "      <td>16.878</td>\n",
       "      <td>1004.75</td>\n",
       "    </tr>\n",
       "    <tr>\n",
       "      <th>44</th>\n",
       "      <td>4.859</td>\n",
       "      <td>1.808</td>\n",
       "      <td>9.944</td>\n",
       "      <td>10.848</td>\n",
       "      <td>809.38</td>\n",
       "    </tr>\n",
       "    <tr>\n",
       "      <th>45</th>\n",
       "      <td>4.080</td>\n",
       "      <td>4.080</td>\n",
       "      <td>13.056</td>\n",
       "      <td>12.920</td>\n",
       "      <td>716.20</td>\n",
       "    </tr>\n",
       "    <tr>\n",
       "      <th>46</th>\n",
       "      <td>2.413</td>\n",
       "      <td>3.429</td>\n",
       "      <td>11.049</td>\n",
       "      <td>11.176</td>\n",
       "      <td>768.95</td>\n",
       "    </tr>\n",
       "    <tr>\n",
       "      <th>47</th>\n",
       "      <td>4.452</td>\n",
       "      <td>3.498</td>\n",
       "      <td>8.692</td>\n",
       "      <td>9.116</td>\n",
       "      <td>890.03</td>\n",
       "    </tr>\n",
       "    <tr>\n",
       "      <th>48</th>\n",
       "      <td>8.092</td>\n",
       "      <td>6.664</td>\n",
       "      <td>23.086</td>\n",
       "      <td>20.706</td>\n",
       "      <td>992.61</td>\n",
       "    </tr>\n",
       "    <tr>\n",
       "      <th>49</th>\n",
       "      <td>4.968</td>\n",
       "      <td>4.554</td>\n",
       "      <td>5.382</td>\n",
       "      <td>11.592</td>\n",
       "      <td>670.31</td>\n",
       "    </tr>\n",
       "    <tr>\n",
       "      <th>50</th>\n",
       "      <td>7.308</td>\n",
       "      <td>5.568</td>\n",
       "      <td>14.094</td>\n",
       "      <td>15.660</td>\n",
       "      <td>791.14</td>\n",
       "    </tr>\n",
       "  </tbody>\n",
       "</table>\n",
       "</div>"
      ],
      "text/plain": [
       "    speeding  alcohol  not_distracted  no_previous  ins_premium\n",
       "0      7.332    5.640          18.048       15.040       784.55\n",
       "1      7.421    4.525          16.290       17.014      1053.48\n",
       "2      6.510    5.208          15.624       17.856       899.47\n",
       "3      4.032    5.824          21.056       21.280       827.34\n",
       "4      4.200    3.360          10.920       10.680       878.41\n",
       "5      5.032    3.808          10.744       12.920       835.50\n",
       "6      4.968    3.888           9.396        8.856      1068.73\n",
       "7      6.156    4.860          14.094       16.038      1137.87\n",
       "8      2.006    1.593           5.900        5.900      1273.89\n",
       "9      3.759    5.191          16.468       16.826      1160.13\n",
       "10     2.964    3.900          14.820       14.508       913.15\n",
       "11     9.450    7.175          14.350       15.225       861.18\n",
       "12     5.508    4.437          13.005       14.994       641.96\n",
       "13     4.608    4.352          12.032       12.288       803.11\n",
       "14     3.625    4.205          13.775       13.775       710.46\n",
       "15     2.669    3.925          15.229       13.659       649.06\n",
       "16     4.806    4.272          13.706       15.130       780.45\n",
       "17     4.066    4.922          16.692       16.264       872.51\n",
       "18     7.175    6.765          14.965       20.090      1281.55\n",
       "19     5.738    4.530          13.137       12.684       661.88\n",
       "20     4.250    4.000           8.875       12.375      1048.78\n",
       "21     1.886    2.870           7.134        6.560      1011.14\n",
       "22     3.384    3.948          13.395       10.857      1110.61\n",
       "23     2.208    2.784           8.448        8.448       777.18\n",
       "24     2.640    5.456           1.760       17.600       896.07\n",
       "25     6.923    5.474          14.812       13.524       790.32\n",
       "26     8.346    9.416          17.976       18.190       816.21\n",
       "27     1.937    5.215          13.857       13.410       732.28\n",
       "28     5.439    4.704          13.965       14.553      1029.87\n",
       "29     4.060    3.480          10.092        9.628       746.54\n",
       "30     1.792    3.136           9.632        8.736      1301.52\n",
       "31     3.496    4.968          12.328       18.032       869.85\n",
       "32     3.936    3.567          10.824        9.840      1234.31\n",
       "33     6.552    5.208          15.792       13.608       708.24\n",
       "34     5.497   10.038          23.661       20.554       688.75\n",
       "35     3.948    4.794          13.959       11.562       697.73\n",
       "36     6.368    5.771          18.308       18.706       881.51\n",
       "37     4.224    3.328           8.576       11.520       804.71\n",
       "38     9.100    5.642          17.472       16.016       905.99\n",
       "39     3.774    4.218          10.212        8.769      1148.99\n",
       "40     9.082    9.799          22.944       19.359       858.97\n",
       "41     6.014    6.402          19.012       16.684       669.31\n",
       "42     4.095    5.655          15.990       15.795       767.91\n",
       "43     7.760    7.372          17.654       16.878      1004.75\n",
       "44     4.859    1.808           9.944       10.848       809.38\n",
       "45     4.080    4.080          13.056       12.920       716.20\n",
       "46     2.413    3.429          11.049       11.176       768.95\n",
       "47     4.452    3.498           8.692        9.116       890.03\n",
       "48     8.092    6.664          23.086       20.706       992.61\n",
       "49     4.968    4.554           5.382       11.592       670.31\n",
       "50     7.308    5.568          14.094       15.660       791.14"
      ]
     },
     "execution_count": 118,
     "metadata": {},
     "output_type": "execute_result"
    }
   ],
   "source": [
    "X"
   ]
  },
  {
   "cell_type": "code",
   "execution_count": null,
   "id": "0b0c245f",
   "metadata": {},
   "outputs": [],
   "source": []
  },
  {
   "cell_type": "code",
   "execution_count": 123,
   "id": "1bdde461",
   "metadata": {},
   "outputs": [
    {
     "data": {
      "text/plain": [
       "<bound method IndexOpsMixin.value_counts of 0     AL\n",
       "1     AK\n",
       "2     AZ\n",
       "3     AR\n",
       "4     CA\n",
       "5     CO\n",
       "6     CT\n",
       "7     DE\n",
       "8     DC\n",
       "9     FL\n",
       "10    GA\n",
       "11    HI\n",
       "12    ID\n",
       "13    IL\n",
       "14    IN\n",
       "15    IA\n",
       "16    KS\n",
       "17    KY\n",
       "18    LA\n",
       "19    ME\n",
       "20    MD\n",
       "21    MA\n",
       "22    MI\n",
       "23    MN\n",
       "24    MS\n",
       "25    MO\n",
       "26    MT\n",
       "27    NE\n",
       "28    NV\n",
       "29    NH\n",
       "30    NJ\n",
       "31    NM\n",
       "32    NY\n",
       "33    NC\n",
       "34    ND\n",
       "35    OH\n",
       "36    OK\n",
       "37    OR\n",
       "38    PA\n",
       "39    RI\n",
       "40    SC\n",
       "41    SD\n",
       "42    TN\n",
       "43    TX\n",
       "44    UT\n",
       "45    VT\n",
       "46    VA\n",
       "47    WA\n",
       "48    WV\n",
       "49    WI\n",
       "50    WY\n",
       "Name: abbrev, dtype: object>"
      ]
     },
     "execution_count": 123,
     "metadata": {},
     "output_type": "execute_result"
    }
   ],
   "source": [
    "c.abbrev.value_counts"
   ]
  },
  {
   "cell_type": "code",
   "execution_count": null,
   "id": "efacf74a",
   "metadata": {},
   "outputs": [],
   "source": []
  },
  {
   "cell_type": "code",
   "execution_count": null,
   "id": "32d0df11",
   "metadata": {},
   "outputs": [],
   "source": []
  },
  {
   "cell_type": "code",
   "execution_count": 119,
   "id": "fd8ce94e",
   "metadata": {},
   "outputs": [],
   "source": [
    "y=c[\"total\"]"
   ]
  },
  {
   "cell_type": "code",
   "execution_count": 120,
   "id": "72e4106c",
   "metadata": {},
   "outputs": [
    {
     "data": {
      "text/plain": [
       "0     18.8\n",
       "1     18.1\n",
       "2     18.6\n",
       "3     22.4\n",
       "4     12.0\n",
       "5     13.6\n",
       "6     10.8\n",
       "7     16.2\n",
       "8      5.9\n",
       "9     17.9\n",
       "10    15.6\n",
       "11    17.5\n",
       "12    15.3\n",
       "13    12.8\n",
       "14    14.5\n",
       "15    15.7\n",
       "16    17.8\n",
       "17    21.4\n",
       "18    20.5\n",
       "19    15.1\n",
       "20    12.5\n",
       "21     8.2\n",
       "22    14.1\n",
       "23     9.6\n",
       "24    17.6\n",
       "25    16.1\n",
       "26    21.4\n",
       "27    14.9\n",
       "28    14.7\n",
       "29    11.6\n",
       "30    11.2\n",
       "31    18.4\n",
       "32    12.3\n",
       "33    16.8\n",
       "34    23.9\n",
       "35    14.1\n",
       "36    19.9\n",
       "37    12.8\n",
       "38    18.2\n",
       "39    11.1\n",
       "40    23.9\n",
       "41    19.4\n",
       "42    19.5\n",
       "43    19.4\n",
       "44    11.3\n",
       "45    13.6\n",
       "46    12.7\n",
       "47    10.6\n",
       "48    23.8\n",
       "49    13.8\n",
       "50    17.4\n",
       "Name: total, dtype: float64"
      ]
     },
     "execution_count": 120,
     "metadata": {},
     "output_type": "execute_result"
    }
   ],
   "source": [
    "y"
   ]
  },
  {
   "cell_type": "code",
   "execution_count": null,
   "id": "ca1d4a42",
   "metadata": {},
   "outputs": [],
   "source": []
  },
  {
   "cell_type": "code",
   "execution_count": null,
   "id": "e96fdde8",
   "metadata": {},
   "outputs": [],
   "source": []
  },
  {
   "cell_type": "code",
   "execution_count": 122,
   "id": "f177f576",
   "metadata": {},
   "outputs": [
    {
     "ename": "ValueError",
     "evalue": "Unknown label type: 'continuous'",
     "output_type": "error",
     "traceback": [
      "\u001b[1;31m---------------------------------------------------------------------------\u001b[0m",
      "\u001b[1;31mValueError\u001b[0m                                Traceback (most recent call last)",
      "\u001b[1;32m<ipython-input-122-22ee8d9f00de>\u001b[0m in \u001b[0;36m<module>\u001b[1;34m\u001b[0m\n\u001b[0;32m      1\u001b[0m \u001b[1;32mfrom\u001b[0m \u001b[0msklearn\u001b[0m\u001b[1;33m.\u001b[0m\u001b[0mfeature_selection\u001b[0m \u001b[1;32mimport\u001b[0m \u001b[0mmutual_info_classif\u001b[0m\u001b[1;33m\u001b[0m\u001b[1;33m\u001b[0m\u001b[0m\n\u001b[1;32m----> 2\u001b[1;33m \u001b[0mscore\u001b[0m \u001b[1;33m=\u001b[0m \u001b[0mmutual_info_classif\u001b[0m\u001b[1;33m(\u001b[0m\u001b[0mX\u001b[0m\u001b[1;33m,\u001b[0m\u001b[0my\u001b[0m\u001b[1;33m)\u001b[0m\u001b[1;33m\u001b[0m\u001b[1;33m\u001b[0m\u001b[0m\n\u001b[0m",
      "\u001b[1;32m~\\anaconda3\\lib\\site-packages\\sklearn\\utils\\validation.py\u001b[0m in \u001b[0;36minner_f\u001b[1;34m(*args, **kwargs)\u001b[0m\n\u001b[0;32m     61\u001b[0m             \u001b[0mextra_args\u001b[0m \u001b[1;33m=\u001b[0m \u001b[0mlen\u001b[0m\u001b[1;33m(\u001b[0m\u001b[0margs\u001b[0m\u001b[1;33m)\u001b[0m \u001b[1;33m-\u001b[0m \u001b[0mlen\u001b[0m\u001b[1;33m(\u001b[0m\u001b[0mall_args\u001b[0m\u001b[1;33m)\u001b[0m\u001b[1;33m\u001b[0m\u001b[1;33m\u001b[0m\u001b[0m\n\u001b[0;32m     62\u001b[0m             \u001b[1;32mif\u001b[0m \u001b[0mextra_args\u001b[0m \u001b[1;33m<=\u001b[0m \u001b[1;36m0\u001b[0m\u001b[1;33m:\u001b[0m\u001b[1;33m\u001b[0m\u001b[1;33m\u001b[0m\u001b[0m\n\u001b[1;32m---> 63\u001b[1;33m                 \u001b[1;32mreturn\u001b[0m \u001b[0mf\u001b[0m\u001b[1;33m(\u001b[0m\u001b[1;33m*\u001b[0m\u001b[0margs\u001b[0m\u001b[1;33m,\u001b[0m \u001b[1;33m**\u001b[0m\u001b[0mkwargs\u001b[0m\u001b[1;33m)\u001b[0m\u001b[1;33m\u001b[0m\u001b[1;33m\u001b[0m\u001b[0m\n\u001b[0m\u001b[0;32m     64\u001b[0m \u001b[1;33m\u001b[0m\u001b[0m\n\u001b[0;32m     65\u001b[0m             \u001b[1;31m# extra_args > 0\u001b[0m\u001b[1;33m\u001b[0m\u001b[1;33m\u001b[0m\u001b[1;33m\u001b[0m\u001b[0m\n",
      "\u001b[1;32m~\\anaconda3\\lib\\site-packages\\sklearn\\feature_selection\\_mutual_info.py\u001b[0m in \u001b[0;36mmutual_info_classif\u001b[1;34m(X, y, discrete_features, n_neighbors, copy, random_state)\u001b[0m\n\u001b[0;32m    445\u001b[0m            \u001b[0mof\u001b[0m \u001b[0ma\u001b[0m \u001b[0mRandom\u001b[0m \u001b[0mVector\u001b[0m\u001b[1;33m:\u001b[0m\u001b[1;33m,\u001b[0m \u001b[0mProbl\u001b[0m\u001b[1;33m.\u001b[0m \u001b[0mPeredachi\u001b[0m \u001b[0mInf\u001b[0m\u001b[1;33m.\u001b[0m\u001b[1;33m,\u001b[0m \u001b[1;36m23\u001b[0m\u001b[1;33m:\u001b[0m\u001b[1;36m2\u001b[0m \u001b[1;33m(\u001b[0m\u001b[1;36m1987\u001b[0m\u001b[1;33m)\u001b[0m\u001b[1;33m,\u001b[0m \u001b[1;36m9\u001b[0m\u001b[1;33m-\u001b[0m\u001b[1;36m16\u001b[0m\u001b[1;33m\u001b[0m\u001b[1;33m\u001b[0m\u001b[0m\n\u001b[0;32m    446\u001b[0m     \"\"\"\n\u001b[1;32m--> 447\u001b[1;33m     \u001b[0mcheck_classification_targets\u001b[0m\u001b[1;33m(\u001b[0m\u001b[0my\u001b[0m\u001b[1;33m)\u001b[0m\u001b[1;33m\u001b[0m\u001b[1;33m\u001b[0m\u001b[0m\n\u001b[0m\u001b[0;32m    448\u001b[0m     return _estimate_mi(X, y, discrete_features, True, n_neighbors,\n\u001b[0;32m    449\u001b[0m                         copy, random_state)\n",
      "\u001b[1;32m~\\anaconda3\\lib\\site-packages\\sklearn\\utils\\multiclass.py\u001b[0m in \u001b[0;36mcheck_classification_targets\u001b[1;34m(y)\u001b[0m\n\u001b[0;32m    181\u001b[0m     if y_type not in ['binary', 'multiclass', 'multiclass-multioutput',\n\u001b[0;32m    182\u001b[0m                       'multilabel-indicator', 'multilabel-sequences']:\n\u001b[1;32m--> 183\u001b[1;33m         \u001b[1;32mraise\u001b[0m \u001b[0mValueError\u001b[0m\u001b[1;33m(\u001b[0m\u001b[1;34m\"Unknown label type: %r\"\u001b[0m \u001b[1;33m%\u001b[0m \u001b[0my_type\u001b[0m\u001b[1;33m)\u001b[0m\u001b[1;33m\u001b[0m\u001b[1;33m\u001b[0m\u001b[0m\n\u001b[0m\u001b[0;32m    184\u001b[0m \u001b[1;33m\u001b[0m\u001b[0m\n\u001b[0;32m    185\u001b[0m \u001b[1;33m\u001b[0m\u001b[0m\n",
      "\u001b[1;31mValueError\u001b[0m: Unknown label type: 'continuous'"
     ]
    }
   ],
   "source": [
    "from sklearn.feature_selection import mutual_info_regression\n",
    "score = mutual_info_regression()"
   ]
  },
  {
   "cell_type": "code",
   "execution_count": null,
   "id": "826a0a76",
   "metadata": {},
   "outputs": [],
   "source": []
  }
 ],
 "metadata": {
  "colab": {
   "provenance": []
  },
  "kernelspec": {
   "display_name": "Python 3",
   "language": "python",
   "name": "python3"
  },
  "language_info": {
   "codemirror_mode": {
    "name": "ipython",
    "version": 3
   },
   "file_extension": ".py",
   "mimetype": "text/x-python",
   "name": "python",
   "nbconvert_exporter": "python",
   "pygments_lexer": "ipython3",
   "version": "3.8.8"
  }
 },
 "nbformat": 4,
 "nbformat_minor": 5
}
